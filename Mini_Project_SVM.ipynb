{
  "nbformat": 4,
  "nbformat_minor": 0,
  "metadata": {
    "colab": {
      "name": "Mini-Project_SVM.ipynb",
      "provenance": [],
      "collapsed_sections": []
    },
    "kernelspec": {
      "name": "python3",
      "display_name": "Python 3"
    },
    "language_info": {
      "name": "python"
    }
  },
  "cells": [
    {
      "cell_type": "code",
      "metadata": {
        "id": "MTvHrGs0aenp"
      },
      "source": [
        "import pandas as pd\n",
        "df=pd.read_csv(\"BrainTumor.csv\")"
      ],
      "execution_count": null,
      "outputs": []
    },
    {
      "cell_type": "code",
      "metadata": {
        "id": "fKZzQzc2EIQu"
      },
      "source": [
        "# droping some column from data set \n",
        "dfMod=df.drop(['Image','Mean','Variance','Standard Deviation'],axis=1)"
      ],
      "execution_count": null,
      "outputs": []
    },
    {
      "cell_type": "code",
      "metadata": {
        "colab": {
          "base_uri": "https://localhost:8080/"
        },
        "id": "MrZAUWqsIjQm",
        "outputId": "b7a715b1-928e-41d4-dbb0-393113022f37"
      },
      "source": [
        "target=['Non-Tumor','Tumor']\n",
        "print(\"Tagret to classify after training: \",target)"
      ],
      "execution_count": null,
      "outputs": [
        {
          "output_type": "stream",
          "name": "stdout",
          "text": [
            "Tagret to classify after training:  ['Non-Tumor', 'Tumor']\n"
          ]
        }
      ]
    },
    {
      "cell_type": "code",
      "metadata": {
        "id": "6m8BfNYUKwip"
      },
      "source": [
        "dfMod['ClassName'] =dfMod.Class.apply(lambda x: target[x])"
      ],
      "execution_count": null,
      "outputs": []
    },
    {
      "cell_type": "code",
      "metadata": {
        "colab": {
          "base_uri": "https://localhost:8080/",
          "height": 252
        },
        "id": "2-GxPRYcMCoW",
        "outputId": "dac3eeaf-3fac-4044-8465-557125e9c039"
      },
      "source": [
        "print(\"\\n printing first five data from dataframe with taget equal to 0:\\n\")\n",
        "dfMod[dfMod.Class==0].head()\n"
      ],
      "execution_count": null,
      "outputs": [
        {
          "output_type": "stream",
          "name": "stdout",
          "text": [
            "\n",
            " printing first five data from dataframe with taget equal to 0:\n",
            "\n"
          ]
        },
        {
          "output_type": "execute_result",
          "data": {
            "text/html": [
              "<div>\n",
              "<style scoped>\n",
              "    .dataframe tbody tr th:only-of-type {\n",
              "        vertical-align: middle;\n",
              "    }\n",
              "\n",
              "    .dataframe tbody tr th {\n",
              "        vertical-align: top;\n",
              "    }\n",
              "\n",
              "    .dataframe thead th {\n",
              "        text-align: right;\n",
              "    }\n",
              "</style>\n",
              "<table border=\"1\" class=\"dataframe\">\n",
              "  <thead>\n",
              "    <tr style=\"text-align: right;\">\n",
              "      <th></th>\n",
              "      <th>Class</th>\n",
              "      <th>Entropy</th>\n",
              "      <th>Skewness</th>\n",
              "      <th>Kurtosis</th>\n",
              "      <th>Contrast</th>\n",
              "      <th>Energy</th>\n",
              "      <th>ASM</th>\n",
              "      <th>Homogeneity</th>\n",
              "      <th>Dissimilarity</th>\n",
              "      <th>Correlation</th>\n",
              "      <th>Coarseness</th>\n",
              "      <th>ClassName</th>\n",
              "    </tr>\n",
              "  </thead>\n",
              "  <tbody>\n",
              "    <tr>\n",
              "      <th>0</th>\n",
              "      <td>0</td>\n",
              "      <td>0.109059</td>\n",
              "      <td>4.276477</td>\n",
              "      <td>18.900575</td>\n",
              "      <td>98.613971</td>\n",
              "      <td>0.293314</td>\n",
              "      <td>0.086033</td>\n",
              "      <td>0.530941</td>\n",
              "      <td>4.473346</td>\n",
              "      <td>0.981939</td>\n",
              "      <td>7.458341e-155</td>\n",
              "      <td>Non-Tumor</td>\n",
              "    </tr>\n",
              "    <tr>\n",
              "      <th>1</th>\n",
              "      <td>0</td>\n",
              "      <td>0.266538</td>\n",
              "      <td>3.718116</td>\n",
              "      <td>14.464618</td>\n",
              "      <td>63.858816</td>\n",
              "      <td>0.475051</td>\n",
              "      <td>0.225674</td>\n",
              "      <td>0.651352</td>\n",
              "      <td>3.220072</td>\n",
              "      <td>0.988834</td>\n",
              "      <td>7.458341e-155</td>\n",
              "      <td>Non-Tumor</td>\n",
              "    </tr>\n",
              "    <tr>\n",
              "      <th>4</th>\n",
              "      <td>0</td>\n",
              "      <td>0.146761</td>\n",
              "      <td>4.283221</td>\n",
              "      <td>19.079108</td>\n",
              "      <td>174.988756</td>\n",
              "      <td>0.343849</td>\n",
              "      <td>0.118232</td>\n",
              "      <td>0.501140</td>\n",
              "      <td>6.834689</td>\n",
              "      <td>0.972789</td>\n",
              "      <td>7.458341e-155</td>\n",
              "      <td>Non-Tumor</td>\n",
              "    </tr>\n",
              "    <tr>\n",
              "      <th>5</th>\n",
              "      <td>0</td>\n",
              "      <td>0.214086</td>\n",
              "      <td>3.729886</td>\n",
              "      <td>14.471736</td>\n",
              "      <td>105.077882</td>\n",
              "      <td>0.421587</td>\n",
              "      <td>0.177736</td>\n",
              "      <td>0.598169</td>\n",
              "      <td>4.193146</td>\n",
              "      <td>0.976485</td>\n",
              "      <td>7.458341e-155</td>\n",
              "      <td>Non-Tumor</td>\n",
              "    </tr>\n",
              "    <tr>\n",
              "      <th>6</th>\n",
              "      <td>0</td>\n",
              "      <td>0.128833</td>\n",
              "      <td>2.930095</td>\n",
              "      <td>8.969348</td>\n",
              "      <td>115.203118</td>\n",
              "      <td>0.320675</td>\n",
              "      <td>0.102832</td>\n",
              "      <td>0.532292</td>\n",
              "      <td>4.880320</td>\n",
              "      <td>0.974745</td>\n",
              "      <td>7.458341e-155</td>\n",
              "      <td>Non-Tumor</td>\n",
              "    </tr>\n",
              "  </tbody>\n",
              "</table>\n",
              "</div>"
            ],
            "text/plain": [
              "   Class   Entropy  Skewness  ...  Correlation     Coarseness  ClassName\n",
              "0      0  0.109059  4.276477  ...     0.981939  7.458341e-155  Non-Tumor\n",
              "1      0  0.266538  3.718116  ...     0.988834  7.458341e-155  Non-Tumor\n",
              "4      0  0.146761  4.283221  ...     0.972789  7.458341e-155  Non-Tumor\n",
              "5      0  0.214086  3.729886  ...     0.976485  7.458341e-155  Non-Tumor\n",
              "6      0  0.128833  2.930095  ...     0.974745  7.458341e-155  Non-Tumor\n",
              "\n",
              "[5 rows x 12 columns]"
            ]
          },
          "metadata": {},
          "execution_count": 5
        }
      ]
    },
    {
      "cell_type": "code",
      "metadata": {
        "colab": {
          "base_uri": "https://localhost:8080/",
          "height": 252
        },
        "id": "er4upyu9M2-7",
        "outputId": "c5249e81-801b-4dd7-9cf0-8ba05e16b438"
      },
      "source": [
        "print(\"\\n printing first five data from dataframe with taget equal to 1:\\n\")\n",
        "dfMod[dfMod.Class==1].head()"
      ],
      "execution_count": null,
      "outputs": [
        {
          "output_type": "stream",
          "name": "stdout",
          "text": [
            "\n",
            " printing first five data from dataframe with taget equal to 1:\n",
            "\n"
          ]
        },
        {
          "output_type": "execute_result",
          "data": {
            "text/html": [
              "<div>\n",
              "<style scoped>\n",
              "    .dataframe tbody tr th:only-of-type {\n",
              "        vertical-align: middle;\n",
              "    }\n",
              "\n",
              "    .dataframe tbody tr th {\n",
              "        vertical-align: top;\n",
              "    }\n",
              "\n",
              "    .dataframe thead th {\n",
              "        text-align: right;\n",
              "    }\n",
              "</style>\n",
              "<table border=\"1\" class=\"dataframe\">\n",
              "  <thead>\n",
              "    <tr style=\"text-align: right;\">\n",
              "      <th></th>\n",
              "      <th>Class</th>\n",
              "      <th>Entropy</th>\n",
              "      <th>Skewness</th>\n",
              "      <th>Kurtosis</th>\n",
              "      <th>Contrast</th>\n",
              "      <th>Energy</th>\n",
              "      <th>ASM</th>\n",
              "      <th>Homogeneity</th>\n",
              "      <th>Dissimilarity</th>\n",
              "      <th>Correlation</th>\n",
              "      <th>Coarseness</th>\n",
              "      <th>ClassName</th>\n",
              "    </tr>\n",
              "  </thead>\n",
              "  <tbody>\n",
              "    <tr>\n",
              "      <th>2</th>\n",
              "      <td>1</td>\n",
              "      <td>0.001467</td>\n",
              "      <td>5.061750</td>\n",
              "      <td>26.479563</td>\n",
              "      <td>81.867206</td>\n",
              "      <td>0.031917</td>\n",
              "      <td>0.001019</td>\n",
              "      <td>0.268275</td>\n",
              "      <td>5.981800</td>\n",
              "      <td>0.978014</td>\n",
              "      <td>7.458341e-155</td>\n",
              "      <td>Tumor</td>\n",
              "    </tr>\n",
              "    <tr>\n",
              "      <th>3</th>\n",
              "      <td>1</td>\n",
              "      <td>0.001477</td>\n",
              "      <td>5.677977</td>\n",
              "      <td>33.428845</td>\n",
              "      <td>151.229741</td>\n",
              "      <td>0.032024</td>\n",
              "      <td>0.001026</td>\n",
              "      <td>0.243851</td>\n",
              "      <td>7.700919</td>\n",
              "      <td>0.964189</td>\n",
              "      <td>7.458341e-155</td>\n",
              "      <td>Tumor</td>\n",
              "    </tr>\n",
              "    <tr>\n",
              "      <th>9</th>\n",
              "      <td>1</td>\n",
              "      <td>0.003002</td>\n",
              "      <td>4.365000</td>\n",
              "      <td>19.682514</td>\n",
              "      <td>72.588783</td>\n",
              "      <td>0.045685</td>\n",
              "      <td>0.002087</td>\n",
              "      <td>0.361432</td>\n",
              "      <td>4.590795</td>\n",
              "      <td>0.967830</td>\n",
              "      <td>7.458341e-155</td>\n",
              "      <td>Tumor</td>\n",
              "    </tr>\n",
              "    <tr>\n",
              "      <th>10</th>\n",
              "      <td>1</td>\n",
              "      <td>0.002436</td>\n",
              "      <td>3.872728</td>\n",
              "      <td>15.552862</td>\n",
              "      <td>66.285462</td>\n",
              "      <td>0.041140</td>\n",
              "      <td>0.001692</td>\n",
              "      <td>0.375618</td>\n",
              "      <td>4.626763</td>\n",
              "      <td>0.968750</td>\n",
              "      <td>7.458341e-155</td>\n",
              "      <td>Tumor</td>\n",
              "    </tr>\n",
              "    <tr>\n",
              "      <th>11</th>\n",
              "      <td>1</td>\n",
              "      <td>0.003769</td>\n",
              "      <td>3.623978</td>\n",
              "      <td>14.762270</td>\n",
              "      <td>165.484791</td>\n",
              "      <td>0.051321</td>\n",
              "      <td>0.002634</td>\n",
              "      <td>0.385292</td>\n",
              "      <td>5.215436</td>\n",
              "      <td>0.958601</td>\n",
              "      <td>7.458341e-155</td>\n",
              "      <td>Tumor</td>\n",
              "    </tr>\n",
              "  </tbody>\n",
              "</table>\n",
              "</div>"
            ],
            "text/plain": [
              "    Class   Entropy  Skewness  ...  Correlation     Coarseness  ClassName\n",
              "2       1  0.001467  5.061750  ...     0.978014  7.458341e-155      Tumor\n",
              "3       1  0.001477  5.677977  ...     0.964189  7.458341e-155      Tumor\n",
              "9       1  0.003002  4.365000  ...     0.967830  7.458341e-155      Tumor\n",
              "10      1  0.002436  3.872728  ...     0.968750  7.458341e-155      Tumor\n",
              "11      1  0.003769  3.623978  ...     0.958601  7.458341e-155      Tumor\n",
              "\n",
              "[5 rows x 12 columns]"
            ]
          },
          "metadata": {},
          "execution_count": 6
        }
      ]
    },
    {
      "cell_type": "code",
      "metadata": {
        "id": "-yEZ2WNkFihv"
      },
      "source": [
        "from sklearn.model_selection import train_test_split\n",
        "# Droping un-nessasery data and considering important data for training in x\n",
        "X_train, X_test, y_train, y_test = train_test_split(dfMod.drop(['Class','ClassName'],axis=1), \n",
        "                                                    dfMod.Class, test_size=0.2)"
      ],
      "execution_count": null,
      "outputs": []
    },
    {
      "cell_type": "code",
      "metadata": {
        "id": "SZp_ThyRFEbm"
      },
      "source": [
        "# import seaborn as sns\n",
        "# sns.pairplot(X_train.describe()[X_train.describe().columns],diag_kind=\"kde\")"
      ],
      "execution_count": null,
      "outputs": []
    },
    {
      "cell_type": "markdown",
      "metadata": {
        "id": "cTpficp7JSSj"
      },
      "source": [
        "# **1. RBF SVM**"
      ]
    },
    {
      "cell_type": "code",
      "metadata": {
        "colab": {
          "base_uri": "https://localhost:8080/"
        },
        "id": "3HpQruRoGBeV",
        "outputId": "a0709f34-7bc8-4d40-e218-6f653ab37acf"
      },
      "source": [
        "from sklearn.svm import SVC\n",
        "model = SVC(kernel='rbf')\n",
        "model.fit(X_train, y_train)"
      ],
      "execution_count": null,
      "outputs": [
        {
          "output_type": "execute_result",
          "data": {
            "text/plain": [
              "SVC()"
            ]
          },
          "metadata": {},
          "execution_count": 8
        }
      ]
    },
    {
      "cell_type": "code",
      "metadata": {
        "colab": {
          "base_uri": "https://localhost:8080/"
        },
        "id": "B-UdfkTUG0YK",
        "outputId": "14feadad-2190-484e-9154-256c242c2df9"
      },
      "source": [
        "print(\"Accuracy of Trained model: \",model.score(X_test, y_test))"
      ],
      "execution_count": null,
      "outputs": [
        {
          "output_type": "stream",
          "name": "stdout",
          "text": [
            "Accuracy of Trained model:  0.749003984063745\n"
          ]
        }
      ]
    },
    {
      "cell_type": "code",
      "metadata": {
        "colab": {
          "base_uri": "https://localhost:8080/"
        },
        "id": "5uri7RnwNpdB",
        "outputId": "33925db5-1743-4da0-f658-0f9c0411aaa5"
      },
      "source": [
        "print(\"Predicting value for [[0.3,3.5,15,150,0.5,0.06,0.6,5,0.99,8]] using trained model:\" , target[model.predict([[0.3,3.5,15,150,0.5,0.06,0.6,5,0.99,8]])[0]])"
      ],
      "execution_count": null,
      "outputs": [
        {
          "output_type": "stream",
          "name": "stdout",
          "text": [
            "Predicting value for [[0.3,3.5,15,150,0.5,0.06,0.6,5,0.99,8]] using trained model: Tumor\n"
          ]
        },
        {
          "output_type": "stream",
          "name": "stderr",
          "text": [
            "/usr/local/lib/python3.7/dist-packages/sklearn/base.py:446: UserWarning: X does not have valid feature names, but SVC was fitted with feature names\n",
            "  \"X does not have valid feature names, but\"\n"
          ]
        }
      ]
    },
    {
      "cell_type": "code",
      "metadata": {
        "colab": {
          "base_uri": "https://localhost:8080/"
        },
        "id": "Zdu5msHs8E7k",
        "outputId": "eceff1ef-0674-4c4e-e26e-f3fe1a931314"
      },
      "source": [
        "pred=model.predict(X_test)\n",
        "from sklearn.metrics import classification_report\n",
        "print(classification_report(y_test, pred))"
      ],
      "execution_count": null,
      "outputs": [
        {
          "output_type": "stream",
          "name": "stdout",
          "text": [
            "              precision    recall  f1-score   support\n",
            "\n",
            "           0       0.71      0.90      0.79       397\n",
            "           1       0.84      0.58      0.69       356\n",
            "\n",
            "    accuracy                           0.75       753\n",
            "   macro avg       0.77      0.74      0.74       753\n",
            "weighted avg       0.77      0.75      0.74       753\n",
            "\n"
          ]
        }
      ]
    },
    {
      "cell_type": "code",
      "metadata": {
        "colab": {
          "base_uri": "https://localhost:8080/"
        },
        "id": "RrF6bFZXFmqk",
        "outputId": "e97ed025-0898-4bfc-d5fc-0bb4dadf5879"
      },
      "source": [
        "from sklearn.metrics import classification_report\n",
        "print(classification_report(y_train, model.predict(X_train)))"
      ],
      "execution_count": null,
      "outputs": [
        {
          "output_type": "stream",
          "name": "stdout",
          "text": [
            "              precision    recall  f1-score   support\n",
            "\n",
            "           0       0.73      0.90      0.81      1682\n",
            "           1       0.83      0.58      0.68      1327\n",
            "\n",
            "    accuracy                           0.76      3009\n",
            "   macro avg       0.78      0.74      0.75      3009\n",
            "weighted avg       0.77      0.76      0.75      3009\n",
            "\n"
          ]
        }
      ]
    },
    {
      "cell_type": "markdown",
      "metadata": {
        "id": "J7DT2nQCNXhr"
      },
      "source": [
        "# **2. Polynomial SVM**"
      ]
    },
    {
      "cell_type": "code",
      "metadata": {
        "colab": {
          "base_uri": "https://localhost:8080/"
        },
        "id": "1ctSobMgNWkC",
        "outputId": "8b0159f6-d7bc-4c35-fc75-a20adbf3a0db"
      },
      "source": [
        "from sklearn.svm import SVC\n",
        "model = SVC(kernel='poly')\n",
        "model.fit(X_train, y_train)"
      ],
      "execution_count": null,
      "outputs": [
        {
          "output_type": "execute_result",
          "data": {
            "text/plain": [
              "SVC(kernel='poly')"
            ]
          },
          "metadata": {},
          "execution_count": 13
        }
      ]
    },
    {
      "cell_type": "code",
      "metadata": {
        "colab": {
          "base_uri": "https://localhost:8080/"
        },
        "id": "3PsW3SDXNl88",
        "outputId": "0ee6192b-fdfa-4b3b-e313-d4ab2a9214e1"
      },
      "source": [
        "print(\"Accuracy of Trained model: \",model.score(X_test, y_test))"
      ],
      "execution_count": null,
      "outputs": [
        {
          "output_type": "stream",
          "name": "stdout",
          "text": [
            "Accuracy of Trained model:  0.6294820717131474\n"
          ]
        }
      ]
    },
    {
      "cell_type": "code",
      "metadata": {
        "colab": {
          "base_uri": "https://localhost:8080/"
        },
        "id": "O4-GKeVENoqG",
        "outputId": "f0f6cdab-f215-4516-cee3-b5fcaff04c76"
      },
      "source": [
        "print(\"Predicting value for [[0.3,3.5,15,150,0.5,0.06,0.6,5,0.99,8]] using trained model:\" , target[model.predict([[0.3,3.5,15,150,0.5,0.06,0.6,5,0.99,8]])[0]])"
      ],
      "execution_count": null,
      "outputs": [
        {
          "output_type": "stream",
          "name": "stdout",
          "text": [
            "Predicting value for [[0.3,3.5,15,150,0.5,0.06,0.6,5,0.99,8]] using trained model: Non-Tumor\n"
          ]
        },
        {
          "output_type": "stream",
          "name": "stderr",
          "text": [
            "/usr/local/lib/python3.7/dist-packages/sklearn/base.py:446: UserWarning: X does not have valid feature names, but SVC was fitted with feature names\n",
            "  \"X does not have valid feature names, but\"\n"
          ]
        }
      ]
    },
    {
      "cell_type": "code",
      "metadata": {
        "colab": {
          "base_uri": "https://localhost:8080/"
        },
        "id": "pPYmVn4_8zcS",
        "outputId": "1fc905f8-0ed4-4eaf-e522-b61d92e3d662"
      },
      "source": [
        "pred=model.predict(X_test)\n",
        "from sklearn.metrics import classification_report\n",
        "print(classification_report(y_test, pred))"
      ],
      "execution_count": null,
      "outputs": [
        {
          "output_type": "stream",
          "name": "stdout",
          "text": [
            "              precision    recall  f1-score   support\n",
            "\n",
            "           0       0.59      0.94      0.73       397\n",
            "           1       0.81      0.28      0.42       356\n",
            "\n",
            "    accuracy                           0.63       753\n",
            "   macro avg       0.70      0.61      0.57       753\n",
            "weighted avg       0.70      0.63      0.58       753\n",
            "\n"
          ]
        }
      ]
    },
    {
      "cell_type": "code",
      "metadata": {
        "colab": {
          "base_uri": "https://localhost:8080/"
        },
        "id": "vyI5ZvXTFle7",
        "outputId": "5b725ba7-ac10-4f0e-de4c-fc27b53fba2e"
      },
      "source": [
        "from sklearn.metrics import classification_report\n",
        "print(classification_report(y_train, model.predict(X_train)))"
      ],
      "execution_count": null,
      "outputs": [
        {
          "output_type": "stream",
          "name": "stdout",
          "text": [
            "              precision    recall  f1-score   support\n",
            "\n",
            "           0       0.63      0.95      0.76      1682\n",
            "           1       0.82      0.30      0.44      1327\n",
            "\n",
            "    accuracy                           0.66      3009\n",
            "   macro avg       0.73      0.62      0.60      3009\n",
            "weighted avg       0.71      0.66      0.62      3009\n",
            "\n"
          ]
        }
      ]
    },
    {
      "cell_type": "markdown",
      "metadata": {
        "id": "9e-fPD9611Xz"
      },
      "source": [
        "# **3. Linear SVM**"
      ]
    },
    {
      "cell_type": "code",
      "metadata": {
        "colab": {
          "base_uri": "https://localhost:8080/"
        },
        "id": "F91allvM19_3",
        "outputId": "c5f27251-6b68-44b0-8deb-854a6af1add5"
      },
      "source": [
        "from sklearn.svm import SVC\n",
        "model = SVC(kernel='linear')\n",
        "model.fit(X_train, y_train)"
      ],
      "execution_count": null,
      "outputs": [
        {
          "output_type": "execute_result",
          "data": {
            "text/plain": [
              "SVC(kernel='linear')"
            ]
          },
          "metadata": {},
          "execution_count": 18
        }
      ]
    },
    {
      "cell_type": "code",
      "metadata": {
        "colab": {
          "base_uri": "https://localhost:8080/"
        },
        "id": "K74d3bOj1_Lz",
        "outputId": "f51da9ce-618b-4699-b713-232393fbfe5a"
      },
      "source": [
        "print(\"Accuracy of Trained model: \",model.score(X_test, y_test))"
      ],
      "execution_count": null,
      "outputs": [
        {
          "output_type": "stream",
          "name": "stdout",
          "text": [
            "Accuracy of Trained model:  0.9814077025232404\n"
          ]
        }
      ]
    },
    {
      "cell_type": "code",
      "metadata": {
        "colab": {
          "base_uri": "https://localhost:8080/"
        },
        "id": "MkPO6kJy2DZF",
        "outputId": "89aa0f06-74f9-45cd-86cf-c6496953bf21"
      },
      "source": [
        "print(\"Predicting value for [[0.3,3.5,15,150,0.5,0.06,0.6,5,0.99,8]] using trained model:\" , target[model.predict([[0.3,3.5,15,150,0.5,0.06,0.6,5,0.99,8]])[0]])"
      ],
      "execution_count": null,
      "outputs": [
        {
          "output_type": "stream",
          "name": "stdout",
          "text": [
            "Predicting value for [[0.3,3.5,15,150,0.5,0.06,0.6,5,0.99,8]] using trained model: Non-Tumor\n"
          ]
        },
        {
          "output_type": "stream",
          "name": "stderr",
          "text": [
            "/usr/local/lib/python3.7/dist-packages/sklearn/base.py:446: UserWarning: X does not have valid feature names, but SVC was fitted with feature names\n",
            "  \"X does not have valid feature names, but\"\n"
          ]
        }
      ]
    },
    {
      "cell_type": "code",
      "metadata": {
        "colab": {
          "base_uri": "https://localhost:8080/"
        },
        "id": "BHG-8d73838W",
        "outputId": "8a55686d-81bb-484f-df8b-7837b4c56e53"
      },
      "source": [
        "pred=model.predict(X_test)\n",
        "from sklearn.metrics import classification_report\n",
        "print(classification_report(y_test, pred))"
      ],
      "execution_count": null,
      "outputs": [
        {
          "output_type": "stream",
          "name": "stdout",
          "text": [
            "              precision    recall  f1-score   support\n",
            "\n",
            "           0       0.97      1.00      0.98       397\n",
            "           1       1.00      0.96      0.98       356\n",
            "\n",
            "    accuracy                           0.98       753\n",
            "   macro avg       0.98      0.98      0.98       753\n",
            "weighted avg       0.98      0.98      0.98       753\n",
            "\n"
          ]
        }
      ]
    },
    {
      "cell_type": "code",
      "metadata": {
        "colab": {
          "base_uri": "https://localhost:8080/"
        },
        "id": "q3h1naBUE2S_",
        "outputId": "ead9cef3-8457-4c2b-f1fa-5c05034eb34a"
      },
      "source": [
        "from sklearn.metrics import classification_report\n",
        "print(classification_report(y_train, model.predict(X_train)))"
      ],
      "execution_count": null,
      "outputs": [
        {
          "output_type": "stream",
          "name": "stdout",
          "text": [
            "              precision    recall  f1-score   support\n",
            "\n",
            "           0       0.96      1.00      0.98      1682\n",
            "           1       0.99      0.95      0.97      1327\n",
            "\n",
            "    accuracy                           0.98      3009\n",
            "   macro avg       0.98      0.97      0.98      3009\n",
            "weighted avg       0.98      0.98      0.98      3009\n",
            "\n"
          ]
        }
      ]
    }
  ]
}