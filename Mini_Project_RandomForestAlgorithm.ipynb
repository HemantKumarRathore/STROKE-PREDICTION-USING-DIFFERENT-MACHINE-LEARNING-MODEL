{
  "nbformat": 4,
  "nbformat_minor": 0,
  "metadata": {
    "colab": {
      "name": "Mini-Project_RandomForestAlgorithm.ipynb",
      "provenance": [],
      "collapsed_sections": []
    },
    "kernelspec": {
      "name": "python3",
      "display_name": "Python 3"
    },
    "language_info": {
      "name": "python"
    }
  },
  "cells": [
    {
      "cell_type": "code",
      "metadata": {
        "id": "Zzf29KjDEKHA"
      },
      "source": [
        "import pandas as pd\n",
        "import numpy as np"
      ],
      "execution_count": null,
      "outputs": []
    },
    {
      "cell_type": "code",
      "metadata": {
        "id": "bbNF12OPGS7k",
        "colab": {
          "base_uri": "https://localhost:8080/"
        },
        "outputId": "6f05f9c3-de03-4ace-fa98-ba9073c0836f"
      },
      "source": [
        "df = pd.read_csv(\"/content/BrainTumor.csv\")\n",
        "df.columns"
      ],
      "execution_count": null,
      "outputs": [
        {
          "output_type": "execute_result",
          "data": {
            "text/plain": [
              "Index(['Image', 'Class', 'Mean', 'Variance', 'Standard Deviation', 'Entropy',\n",
              "       'Skewness', 'Kurtosis', 'Contrast', 'Energy', 'ASM', 'Homogeneity',\n",
              "       'Dissimilarity', 'Correlation', 'Coarseness'],\n",
              "      dtype='object')"
            ]
          },
          "metadata": {},
          "execution_count": 23
        }
      ]
    },
    {
      "cell_type": "code",
      "metadata": {
        "id": "cTkW_yk4QAei"
      },
      "source": [
        "# droping some column from data set  \n",
        "dfMod=df.drop(['Image','Mean','Variance','Standard Deviation'],axis=1)"
      ],
      "execution_count": null,
      "outputs": []
    },
    {
      "cell_type": "code",
      "metadata": {
        "colab": {
          "base_uri": "https://localhost:8080/"
        },
        "id": "s7VdckD94eBh",
        "outputId": "cf3a5551-5a99-4cac-8bb2-54d2ac0826b5"
      },
      "source": [
        "df.info()"
      ],
      "execution_count": null,
      "outputs": [
        {
          "output_type": "stream",
          "name": "stdout",
          "text": [
            "<class 'pandas.core.frame.DataFrame'>\n",
            "RangeIndex: 3762 entries, 0 to 3761\n",
            "Data columns (total 15 columns):\n",
            " #   Column              Non-Null Count  Dtype  \n",
            "---  ------              --------------  -----  \n",
            " 0   Image               3762 non-null   object \n",
            " 1   Class               3762 non-null   int64  \n",
            " 2   Mean                3762 non-null   float64\n",
            " 3   Variance            3762 non-null   float64\n",
            " 4   Standard Deviation  3762 non-null   float64\n",
            " 5   Entropy             3762 non-null   float64\n",
            " 6   Skewness            3762 non-null   float64\n",
            " 7   Kurtosis            3762 non-null   float64\n",
            " 8   Contrast            3762 non-null   float64\n",
            " 9   Energy              3762 non-null   float64\n",
            " 10  ASM                 3762 non-null   float64\n",
            " 11  Homogeneity         3762 non-null   float64\n",
            " 12  Dissimilarity       3762 non-null   float64\n",
            " 13  Correlation         3762 non-null   float64\n",
            " 14  Coarseness          3762 non-null   float64\n",
            "dtypes: float64(13), int64(1), object(1)\n",
            "memory usage: 441.0+ KB\n"
          ]
        }
      ]
    },
    {
      "cell_type": "code",
      "metadata": {
        "colab": {
          "base_uri": "https://localhost:8080/",
          "height": 294
        },
        "id": "BTePQEGpQszF",
        "outputId": "e0439ed8-8497-414b-8c96-79bb5782f146"
      },
      "source": [
        "# showing descripition of data set\n",
        "dfMod.describe()"
      ],
      "execution_count": null,
      "outputs": [
        {
          "output_type": "execute_result",
          "data": {
            "text/html": [
              "<div>\n",
              "<style scoped>\n",
              "    .dataframe tbody tr th:only-of-type {\n",
              "        vertical-align: middle;\n",
              "    }\n",
              "\n",
              "    .dataframe tbody tr th {\n",
              "        vertical-align: top;\n",
              "    }\n",
              "\n",
              "    .dataframe thead th {\n",
              "        text-align: right;\n",
              "    }\n",
              "</style>\n",
              "<table border=\"1\" class=\"dataframe\">\n",
              "  <thead>\n",
              "    <tr style=\"text-align: right;\">\n",
              "      <th></th>\n",
              "      <th>Class</th>\n",
              "      <th>Entropy</th>\n",
              "      <th>Skewness</th>\n",
              "      <th>Kurtosis</th>\n",
              "      <th>Contrast</th>\n",
              "      <th>Energy</th>\n",
              "      <th>ASM</th>\n",
              "      <th>Homogeneity</th>\n",
              "      <th>Dissimilarity</th>\n",
              "      <th>Correlation</th>\n",
              "      <th>Coarseness</th>\n",
              "    </tr>\n",
              "  </thead>\n",
              "  <tbody>\n",
              "    <tr>\n",
              "      <th>count</th>\n",
              "      <td>3762.000000</td>\n",
              "      <td>3762.000000</td>\n",
              "      <td>3762.000000</td>\n",
              "      <td>3762.000000</td>\n",
              "      <td>3762.000000</td>\n",
              "      <td>3762.000000</td>\n",
              "      <td>3762.000000</td>\n",
              "      <td>3762.000000</td>\n",
              "      <td>3762.000000</td>\n",
              "      <td>3762.000000</td>\n",
              "      <td>3.762000e+03</td>\n",
              "    </tr>\n",
              "    <tr>\n",
              "      <th>mean</th>\n",
              "      <td>0.447368</td>\n",
              "      <td>0.073603</td>\n",
              "      <td>4.102727</td>\n",
              "      <td>24.389071</td>\n",
              "      <td>127.961459</td>\n",
              "      <td>0.204705</td>\n",
              "      <td>0.058632</td>\n",
              "      <td>0.479252</td>\n",
              "      <td>4.698498</td>\n",
              "      <td>0.955767</td>\n",
              "      <td>7.458341e-155</td>\n",
              "    </tr>\n",
              "    <tr>\n",
              "      <th>std</th>\n",
              "      <td>0.497288</td>\n",
              "      <td>0.070269</td>\n",
              "      <td>2.560940</td>\n",
              "      <td>56.434747</td>\n",
              "      <td>109.499601</td>\n",
              "      <td>0.129352</td>\n",
              "      <td>0.058300</td>\n",
              "      <td>0.127929</td>\n",
              "      <td>1.850173</td>\n",
              "      <td>0.026157</td>\n",
              "      <td>0.000000e+00</td>\n",
              "    </tr>\n",
              "    <tr>\n",
              "      <th>min</th>\n",
              "      <td>0.000000</td>\n",
              "      <td>0.000882</td>\n",
              "      <td>1.886014</td>\n",
              "      <td>3.942402</td>\n",
              "      <td>3.194733</td>\n",
              "      <td>0.024731</td>\n",
              "      <td>0.000612</td>\n",
              "      <td>0.105490</td>\n",
              "      <td>0.681121</td>\n",
              "      <td>0.549426</td>\n",
              "      <td>7.458341e-155</td>\n",
              "    </tr>\n",
              "    <tr>\n",
              "      <th>25%</th>\n",
              "      <td>0.000000</td>\n",
              "      <td>0.006856</td>\n",
              "      <td>2.620203</td>\n",
              "      <td>7.252852</td>\n",
              "      <td>72.125208</td>\n",
              "      <td>0.069617</td>\n",
              "      <td>0.004847</td>\n",
              "      <td>0.364973</td>\n",
              "      <td>3.412363</td>\n",
              "      <td>0.947138</td>\n",
              "      <td>7.458341e-155</td>\n",
              "    </tr>\n",
              "    <tr>\n",
              "      <th>50%</th>\n",
              "      <td>0.000000</td>\n",
              "      <td>0.066628</td>\n",
              "      <td>3.422210</td>\n",
              "      <td>12.359088</td>\n",
              "      <td>106.737418</td>\n",
              "      <td>0.225496</td>\n",
              "      <td>0.050849</td>\n",
              "      <td>0.512551</td>\n",
              "      <td>4.482404</td>\n",
              "      <td>0.961610</td>\n",
              "      <td>7.458341e-155</td>\n",
              "    </tr>\n",
              "    <tr>\n",
              "      <th>75%</th>\n",
              "      <td>1.000000</td>\n",
              "      <td>0.113284</td>\n",
              "      <td>4.651737</td>\n",
              "      <td>22.640304</td>\n",
              "      <td>161.059006</td>\n",
              "      <td>0.298901</td>\n",
              "      <td>0.089342</td>\n",
              "      <td>0.575557</td>\n",
              "      <td>5.723821</td>\n",
              "      <td>0.971355</td>\n",
              "      <td>7.458341e-155</td>\n",
              "    </tr>\n",
              "    <tr>\n",
              "      <th>max</th>\n",
              "      <td>1.000000</td>\n",
              "      <td>0.394539</td>\n",
              "      <td>36.931294</td>\n",
              "      <td>1371.640060</td>\n",
              "      <td>3382.574163</td>\n",
              "      <td>0.589682</td>\n",
              "      <td>0.347725</td>\n",
              "      <td>0.810921</td>\n",
              "      <td>27.827751</td>\n",
              "      <td>0.989972</td>\n",
              "      <td>7.458341e-155</td>\n",
              "    </tr>\n",
              "  </tbody>\n",
              "</table>\n",
              "</div>"
            ],
            "text/plain": [
              "             Class      Entropy  ...  Correlation     Coarseness\n",
              "count  3762.000000  3762.000000  ...  3762.000000   3.762000e+03\n",
              "mean      0.447368     0.073603  ...     0.955767  7.458341e-155\n",
              "std       0.497288     0.070269  ...     0.026157   0.000000e+00\n",
              "min       0.000000     0.000882  ...     0.549426  7.458341e-155\n",
              "25%       0.000000     0.006856  ...     0.947138  7.458341e-155\n",
              "50%       0.000000     0.066628  ...     0.961610  7.458341e-155\n",
              "75%       1.000000     0.113284  ...     0.971355  7.458341e-155\n",
              "max       1.000000     0.394539  ...     0.989972  7.458341e-155\n",
              "\n",
              "[8 rows x 11 columns]"
            ]
          },
          "metadata": {},
          "execution_count": 26
        }
      ]
    },
    {
      "cell_type": "code",
      "metadata": {
        "colab": {
          "base_uri": "https://localhost:8080/"
        },
        "id": "4n7Vnf6jQLuT",
        "outputId": "329e2722-58b9-4b20-befa-9f13b6c0ea99"
      },
      "source": [
        "# Target to be predicted by our model\n",
        "target=['Non-Tumor','Tumor']\n",
        "print(\"Tagret to classify after training: \",target)"
      ],
      "execution_count": null,
      "outputs": [
        {
          "output_type": "stream",
          "name": "stdout",
          "text": [
            "Tagret to classify after training:  ['Non-Tumor', 'Tumor']\n"
          ]
        }
      ]
    },
    {
      "cell_type": "code",
      "metadata": {
        "id": "yf7_5vm9QMVv"
      },
      "source": [
        "# Adding target name on the basis of target class\n",
        "dfMod['ClassName'] =dfMod.Class.apply(lambda x: target[x])"
      ],
      "execution_count": null,
      "outputs": []
    },
    {
      "cell_type": "code",
      "metadata": {
        "colab": {
          "base_uri": "https://localhost:8080/",
          "height": 252
        },
        "id": "gQesh-m8R_QN",
        "outputId": "60c2e454-5d14-41ca-ec9d-7acc4a1820a1"
      },
      "source": [
        "print(\"\\n printing first five data from dataframe with taget equal to 0:\\n\")\n",
        "dfMod[dfMod.Class==0].head()"
      ],
      "execution_count": null,
      "outputs": [
        {
          "output_type": "stream",
          "name": "stdout",
          "text": [
            "\n",
            " printing first five data from dataframe with taget equal to 0:\n",
            "\n"
          ]
        },
        {
          "output_type": "execute_result",
          "data": {
            "text/html": [
              "<div>\n",
              "<style scoped>\n",
              "    .dataframe tbody tr th:only-of-type {\n",
              "        vertical-align: middle;\n",
              "    }\n",
              "\n",
              "    .dataframe tbody tr th {\n",
              "        vertical-align: top;\n",
              "    }\n",
              "\n",
              "    .dataframe thead th {\n",
              "        text-align: right;\n",
              "    }\n",
              "</style>\n",
              "<table border=\"1\" class=\"dataframe\">\n",
              "  <thead>\n",
              "    <tr style=\"text-align: right;\">\n",
              "      <th></th>\n",
              "      <th>Class</th>\n",
              "      <th>Entropy</th>\n",
              "      <th>Skewness</th>\n",
              "      <th>Kurtosis</th>\n",
              "      <th>Contrast</th>\n",
              "      <th>Energy</th>\n",
              "      <th>ASM</th>\n",
              "      <th>Homogeneity</th>\n",
              "      <th>Dissimilarity</th>\n",
              "      <th>Correlation</th>\n",
              "      <th>Coarseness</th>\n",
              "      <th>ClassName</th>\n",
              "    </tr>\n",
              "  </thead>\n",
              "  <tbody>\n",
              "    <tr>\n",
              "      <th>0</th>\n",
              "      <td>0</td>\n",
              "      <td>0.109059</td>\n",
              "      <td>4.276477</td>\n",
              "      <td>18.900575</td>\n",
              "      <td>98.613971</td>\n",
              "      <td>0.293314</td>\n",
              "      <td>0.086033</td>\n",
              "      <td>0.530941</td>\n",
              "      <td>4.473346</td>\n",
              "      <td>0.981939</td>\n",
              "      <td>7.458341e-155</td>\n",
              "      <td>Non-Tumor</td>\n",
              "    </tr>\n",
              "    <tr>\n",
              "      <th>1</th>\n",
              "      <td>0</td>\n",
              "      <td>0.266538</td>\n",
              "      <td>3.718116</td>\n",
              "      <td>14.464618</td>\n",
              "      <td>63.858816</td>\n",
              "      <td>0.475051</td>\n",
              "      <td>0.225674</td>\n",
              "      <td>0.651352</td>\n",
              "      <td>3.220072</td>\n",
              "      <td>0.988834</td>\n",
              "      <td>7.458341e-155</td>\n",
              "      <td>Non-Tumor</td>\n",
              "    </tr>\n",
              "    <tr>\n",
              "      <th>4</th>\n",
              "      <td>0</td>\n",
              "      <td>0.146761</td>\n",
              "      <td>4.283221</td>\n",
              "      <td>19.079108</td>\n",
              "      <td>174.988756</td>\n",
              "      <td>0.343849</td>\n",
              "      <td>0.118232</td>\n",
              "      <td>0.501140</td>\n",
              "      <td>6.834689</td>\n",
              "      <td>0.972789</td>\n",
              "      <td>7.458341e-155</td>\n",
              "      <td>Non-Tumor</td>\n",
              "    </tr>\n",
              "    <tr>\n",
              "      <th>5</th>\n",
              "      <td>0</td>\n",
              "      <td>0.214086</td>\n",
              "      <td>3.729886</td>\n",
              "      <td>14.471736</td>\n",
              "      <td>105.077882</td>\n",
              "      <td>0.421587</td>\n",
              "      <td>0.177736</td>\n",
              "      <td>0.598169</td>\n",
              "      <td>4.193146</td>\n",
              "      <td>0.976485</td>\n",
              "      <td>7.458341e-155</td>\n",
              "      <td>Non-Tumor</td>\n",
              "    </tr>\n",
              "    <tr>\n",
              "      <th>6</th>\n",
              "      <td>0</td>\n",
              "      <td>0.128833</td>\n",
              "      <td>2.930095</td>\n",
              "      <td>8.969348</td>\n",
              "      <td>115.203118</td>\n",
              "      <td>0.320675</td>\n",
              "      <td>0.102832</td>\n",
              "      <td>0.532292</td>\n",
              "      <td>4.880320</td>\n",
              "      <td>0.974745</td>\n",
              "      <td>7.458341e-155</td>\n",
              "      <td>Non-Tumor</td>\n",
              "    </tr>\n",
              "  </tbody>\n",
              "</table>\n",
              "</div>"
            ],
            "text/plain": [
              "   Class   Entropy  Skewness  ...  Correlation     Coarseness  ClassName\n",
              "0      0  0.109059  4.276477  ...     0.981939  7.458341e-155  Non-Tumor\n",
              "1      0  0.266538  3.718116  ...     0.988834  7.458341e-155  Non-Tumor\n",
              "4      0  0.146761  4.283221  ...     0.972789  7.458341e-155  Non-Tumor\n",
              "5      0  0.214086  3.729886  ...     0.976485  7.458341e-155  Non-Tumor\n",
              "6      0  0.128833  2.930095  ...     0.974745  7.458341e-155  Non-Tumor\n",
              "\n",
              "[5 rows x 12 columns]"
            ]
          },
          "metadata": {},
          "execution_count": 29
        }
      ]
    },
    {
      "cell_type": "code",
      "metadata": {
        "colab": {
          "base_uri": "https://localhost:8080/",
          "height": 252
        },
        "id": "jZmhwpIAR_3n",
        "outputId": "f0da2c22-8ee4-4998-ac8a-4596d2292fc8"
      },
      "source": [
        "print(\"\\n printing first five data from dataframe with taget equal to 1:\\n\")\n",
        "dfMod[dfMod.Class==1].head()"
      ],
      "execution_count": null,
      "outputs": [
        {
          "output_type": "stream",
          "name": "stdout",
          "text": [
            "\n",
            " printing first five data from dataframe with taget equal to 1:\n",
            "\n"
          ]
        },
        {
          "output_type": "execute_result",
          "data": {
            "text/html": [
              "<div>\n",
              "<style scoped>\n",
              "    .dataframe tbody tr th:only-of-type {\n",
              "        vertical-align: middle;\n",
              "    }\n",
              "\n",
              "    .dataframe tbody tr th {\n",
              "        vertical-align: top;\n",
              "    }\n",
              "\n",
              "    .dataframe thead th {\n",
              "        text-align: right;\n",
              "    }\n",
              "</style>\n",
              "<table border=\"1\" class=\"dataframe\">\n",
              "  <thead>\n",
              "    <tr style=\"text-align: right;\">\n",
              "      <th></th>\n",
              "      <th>Class</th>\n",
              "      <th>Entropy</th>\n",
              "      <th>Skewness</th>\n",
              "      <th>Kurtosis</th>\n",
              "      <th>Contrast</th>\n",
              "      <th>Energy</th>\n",
              "      <th>ASM</th>\n",
              "      <th>Homogeneity</th>\n",
              "      <th>Dissimilarity</th>\n",
              "      <th>Correlation</th>\n",
              "      <th>Coarseness</th>\n",
              "      <th>ClassName</th>\n",
              "    </tr>\n",
              "  </thead>\n",
              "  <tbody>\n",
              "    <tr>\n",
              "      <th>2</th>\n",
              "      <td>1</td>\n",
              "      <td>0.001467</td>\n",
              "      <td>5.061750</td>\n",
              "      <td>26.479563</td>\n",
              "      <td>81.867206</td>\n",
              "      <td>0.031917</td>\n",
              "      <td>0.001019</td>\n",
              "      <td>0.268275</td>\n",
              "      <td>5.981800</td>\n",
              "      <td>0.978014</td>\n",
              "      <td>7.458341e-155</td>\n",
              "      <td>Tumor</td>\n",
              "    </tr>\n",
              "    <tr>\n",
              "      <th>3</th>\n",
              "      <td>1</td>\n",
              "      <td>0.001477</td>\n",
              "      <td>5.677977</td>\n",
              "      <td>33.428845</td>\n",
              "      <td>151.229741</td>\n",
              "      <td>0.032024</td>\n",
              "      <td>0.001026</td>\n",
              "      <td>0.243851</td>\n",
              "      <td>7.700919</td>\n",
              "      <td>0.964189</td>\n",
              "      <td>7.458341e-155</td>\n",
              "      <td>Tumor</td>\n",
              "    </tr>\n",
              "    <tr>\n",
              "      <th>9</th>\n",
              "      <td>1</td>\n",
              "      <td>0.003002</td>\n",
              "      <td>4.365000</td>\n",
              "      <td>19.682514</td>\n",
              "      <td>72.588783</td>\n",
              "      <td>0.045685</td>\n",
              "      <td>0.002087</td>\n",
              "      <td>0.361432</td>\n",
              "      <td>4.590795</td>\n",
              "      <td>0.967830</td>\n",
              "      <td>7.458341e-155</td>\n",
              "      <td>Tumor</td>\n",
              "    </tr>\n",
              "    <tr>\n",
              "      <th>10</th>\n",
              "      <td>1</td>\n",
              "      <td>0.002436</td>\n",
              "      <td>3.872728</td>\n",
              "      <td>15.552862</td>\n",
              "      <td>66.285462</td>\n",
              "      <td>0.041140</td>\n",
              "      <td>0.001692</td>\n",
              "      <td>0.375618</td>\n",
              "      <td>4.626763</td>\n",
              "      <td>0.968750</td>\n",
              "      <td>7.458341e-155</td>\n",
              "      <td>Tumor</td>\n",
              "    </tr>\n",
              "    <tr>\n",
              "      <th>11</th>\n",
              "      <td>1</td>\n",
              "      <td>0.003769</td>\n",
              "      <td>3.623978</td>\n",
              "      <td>14.762270</td>\n",
              "      <td>165.484791</td>\n",
              "      <td>0.051321</td>\n",
              "      <td>0.002634</td>\n",
              "      <td>0.385292</td>\n",
              "      <td>5.215436</td>\n",
              "      <td>0.958601</td>\n",
              "      <td>7.458341e-155</td>\n",
              "      <td>Tumor</td>\n",
              "    </tr>\n",
              "  </tbody>\n",
              "</table>\n",
              "</div>"
            ],
            "text/plain": [
              "    Class   Entropy  Skewness  ...  Correlation     Coarseness  ClassName\n",
              "2       1  0.001467  5.061750  ...     0.978014  7.458341e-155      Tumor\n",
              "3       1  0.001477  5.677977  ...     0.964189  7.458341e-155      Tumor\n",
              "9       1  0.003002  4.365000  ...     0.967830  7.458341e-155      Tumor\n",
              "10      1  0.002436  3.872728  ...     0.968750  7.458341e-155      Tumor\n",
              "11      1  0.003769  3.623978  ...     0.958601  7.458341e-155      Tumor\n",
              "\n",
              "[5 rows x 12 columns]"
            ]
          },
          "metadata": {},
          "execution_count": 30
        }
      ]
    },
    {
      "cell_type": "markdown",
      "metadata": {
        "id": "cOuixirhSGbE"
      },
      "source": [
        "# **Splitting Data set into Training and Testing data sets**"
      ]
    },
    {
      "cell_type": "code",
      "metadata": {
        "id": "grOaQS7sGiHV"
      },
      "source": [
        "from sklearn.model_selection import train_test_split\n",
        "# Droping un-nessasery data and considering important data for training in x\n",
        "X_train, X_test, y_train, y_test = train_test_split(dfMod.drop(['Class','ClassName'],axis=1), \n",
        "                                                    dfMod.Class, test_size=0.2)"
      ],
      "execution_count": null,
      "outputs": []
    },
    {
      "cell_type": "code",
      "metadata": {
        "id": "Z4M8Kh6ZGn7m",
        "colab": {
          "base_uri": "https://localhost:8080/",
          "height": 415
        },
        "outputId": "8a05e0e8-4bc8-441f-fe41-aef7609d8310"
      },
      "source": [
        "from sklearn.ensemble import RandomForestClassifier\n",
        "\n",
        "model = RandomForestClassifier(n_estimators=20, random_state=0)\n",
        "model.fit(X_train, y_train)\n",
        "pred = model.predict(X_test)\n",
        "# print(pred)\n",
        "# X_test['Predicted']=[int(x) for x in pred]\n",
        "# X_test\n",
        "df_test=pd.concat([X_test,y_test],axis=1)\n",
        "df_test['Predicted Class']=pred\n",
        "df_test[['Class','Predicted Class']]"
      ],
      "execution_count": null,
      "outputs": [
        {
          "output_type": "execute_result",
          "data": {
            "text/html": [
              "<div>\n",
              "<style scoped>\n",
              "    .dataframe tbody tr th:only-of-type {\n",
              "        vertical-align: middle;\n",
              "    }\n",
              "\n",
              "    .dataframe tbody tr th {\n",
              "        vertical-align: top;\n",
              "    }\n",
              "\n",
              "    .dataframe thead th {\n",
              "        text-align: right;\n",
              "    }\n",
              "</style>\n",
              "<table border=\"1\" class=\"dataframe\">\n",
              "  <thead>\n",
              "    <tr style=\"text-align: right;\">\n",
              "      <th></th>\n",
              "      <th>Class</th>\n",
              "      <th>Predicted Class</th>\n",
              "    </tr>\n",
              "  </thead>\n",
              "  <tbody>\n",
              "    <tr>\n",
              "      <th>241</th>\n",
              "      <td>0</td>\n",
              "      <td>0</td>\n",
              "    </tr>\n",
              "    <tr>\n",
              "      <th>3268</th>\n",
              "      <td>0</td>\n",
              "      <td>0</td>\n",
              "    </tr>\n",
              "    <tr>\n",
              "      <th>2801</th>\n",
              "      <td>1</td>\n",
              "      <td>1</td>\n",
              "    </tr>\n",
              "    <tr>\n",
              "      <th>3689</th>\n",
              "      <td>1</td>\n",
              "      <td>1</td>\n",
              "    </tr>\n",
              "    <tr>\n",
              "      <th>1747</th>\n",
              "      <td>0</td>\n",
              "      <td>0</td>\n",
              "    </tr>\n",
              "    <tr>\n",
              "      <th>...</th>\n",
              "      <td>...</td>\n",
              "      <td>...</td>\n",
              "    </tr>\n",
              "    <tr>\n",
              "      <th>572</th>\n",
              "      <td>0</td>\n",
              "      <td>0</td>\n",
              "    </tr>\n",
              "    <tr>\n",
              "      <th>398</th>\n",
              "      <td>0</td>\n",
              "      <td>0</td>\n",
              "    </tr>\n",
              "    <tr>\n",
              "      <th>3017</th>\n",
              "      <td>1</td>\n",
              "      <td>1</td>\n",
              "    </tr>\n",
              "    <tr>\n",
              "      <th>2219</th>\n",
              "      <td>0</td>\n",
              "      <td>0</td>\n",
              "    </tr>\n",
              "    <tr>\n",
              "      <th>3441</th>\n",
              "      <td>1</td>\n",
              "      <td>1</td>\n",
              "    </tr>\n",
              "  </tbody>\n",
              "</table>\n",
              "<p>753 rows × 2 columns</p>\n",
              "</div>"
            ],
            "text/plain": [
              "      Class  Predicted Class\n",
              "241       0                0\n",
              "3268      0                0\n",
              "2801      1                1\n",
              "3689      1                1\n",
              "1747      0                0\n",
              "...     ...              ...\n",
              "572       0                0\n",
              "398       0                0\n",
              "3017      1                1\n",
              "2219      0                0\n",
              "3441      1                1\n",
              "\n",
              "[753 rows x 2 columns]"
            ]
          },
          "metadata": {},
          "execution_count": 32
        }
      ]
    },
    {
      "cell_type": "code",
      "metadata": {
        "colab": {
          "base_uri": "https://localhost:8080/"
        },
        "id": "grYCqXs2XX78",
        "outputId": "420760ee-0cb9-437d-9191-8dc4e0fa0ab6"
      },
      "source": [
        "print(\"Accuracy of Trained model: \",model.score(X_test, y_test))"
      ],
      "execution_count": null,
      "outputs": [
        {
          "output_type": "stream",
          "name": "stdout",
          "text": [
            "Accuracy of Trained model:  0.9853917662682603\n"
          ]
        }
      ]
    },
    {
      "cell_type": "code",
      "metadata": {
        "colab": {
          "base_uri": "https://localhost:8080/"
        },
        "id": "_G3IwUzCXlbz",
        "outputId": "8e8623d6-9a2e-41a2-8382-013847a5649d"
      },
      "source": [
        "print(\"Predicting value for [[0.3,3.5,15,150,0.5,0.06,0.6,5,0.99,8]] using trained model:\" , target[model.predict([[0.3,3.5,15,150,0.5,0.06,0.6,5,0.99,8]])[0]])"
      ],
      "execution_count": null,
      "outputs": [
        {
          "output_type": "stream",
          "name": "stdout",
          "text": [
            "Predicting value for [[0.3,3.5,15,150,0.5,0.06,0.6,5,0.99,8]] using trained model: Non-Tumor\n"
          ]
        },
        {
          "output_type": "stream",
          "name": "stderr",
          "text": [
            "/usr/local/lib/python3.7/dist-packages/sklearn/base.py:446: UserWarning: X does not have valid feature names, but RandomForestClassifier was fitted with feature names\n",
            "  \"X does not have valid feature names, but\"\n"
          ]
        }
      ]
    },
    {
      "cell_type": "code",
      "metadata": {
        "colab": {
          "base_uri": "https://localhost:8080/"
        },
        "id": "QBd1Ubo_6hSY",
        "outputId": "1a36ea73-9b23-47ce-90c4-c9e239128269"
      },
      "source": [
        "from sklearn.metrics import classification_report\n",
        "print(classification_report(y_test, pred))"
      ],
      "execution_count": null,
      "outputs": [
        {
          "output_type": "stream",
          "name": "stdout",
          "text": [
            "              precision    recall  f1-score   support\n",
            "\n",
            "           0       0.98      1.00      0.99       419\n",
            "           1       1.00      0.97      0.98       334\n",
            "\n",
            "    accuracy                           0.99       753\n",
            "   macro avg       0.99      0.98      0.99       753\n",
            "weighted avg       0.99      0.99      0.99       753\n",
            "\n"
          ]
        }
      ]
    },
    {
      "cell_type": "code",
      "metadata": {
        "colab": {
          "base_uri": "https://localhost:8080/"
        },
        "id": "XJOAOxyOD7wC",
        "outputId": "78e8c00d-29b8-4157-dcc2-694000b43ece"
      },
      "source": [
        "from sklearn.metrics import classification_report\n",
        "print(classification_report(y_train, model.predict(X_train)))"
      ],
      "execution_count": null,
      "outputs": [
        {
          "output_type": "stream",
          "name": "stdout",
          "text": [
            "              precision    recall  f1-score   support\n",
            "\n",
            "           0       1.00      1.00      1.00      1660\n",
            "           1       1.00      1.00      1.00      1349\n",
            "\n",
            "    accuracy                           1.00      3009\n",
            "   macro avg       1.00      1.00      1.00      3009\n",
            "weighted avg       1.00      1.00      1.00      3009\n",
            "\n"
          ]
        }
      ]
    }
  ]
}