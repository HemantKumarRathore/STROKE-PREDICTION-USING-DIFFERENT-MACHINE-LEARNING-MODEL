{
  "nbformat": 4,
  "nbformat_minor": 0,
  "metadata": {
    "colab": {
      "name": "Mini-Project_KNN.ipynb",
      "provenance": [],
      "collapsed_sections": []
    },
    "kernelspec": {
      "name": "python3",
      "display_name": "Python 3"
    },
    "language_info": {
      "name": "python"
    }
  },
  "cells": [
    {
      "cell_type": "code",
      "metadata": {
        "id": "O282I2eu_05i"
      },
      "source": [
        "# loading required library\n",
        "import pandas as pd"
      ],
      "execution_count": null,
      "outputs": []
    },
    {
      "cell_type": "code",
      "metadata": {
        "colab": {
          "base_uri": "https://localhost:8080/"
        },
        "id": "Sr8fFysWATW0",
        "outputId": "b572574a-7179-481a-e988-7ce25276f128"
      },
      "source": [
        "df = pd.read_csv(\"BrainTumor.csv\")\n",
        "df.columns"
      ],
      "execution_count": null,
      "outputs": [
        {
          "output_type": "execute_result",
          "data": {
            "text/plain": [
              "Index(['Image', 'Class', 'Mean', 'Variance', 'Standard Deviation', 'Entropy',\n",
              "       'Skewness', 'Kurtosis', 'Contrast', 'Energy', 'ASM', 'Homogeneity',\n",
              "       'Dissimilarity', 'Correlation', 'Coarseness'],\n",
              "      dtype='object')"
            ]
          },
          "metadata": {},
          "execution_count": 2
        }
      ]
    },
    {
      "cell_type": "code",
      "metadata": {
        "id": "feTuuu_gC-xr"
      },
      "source": [
        "# droping some column from data set \n",
        "dfMod=df.drop(['Image','Mean','Variance','Standard Deviation'],axis=1)"
      ],
      "execution_count": null,
      "outputs": []
    },
    {
      "cell_type": "code",
      "metadata": {
        "colab": {
          "base_uri": "https://localhost:8080/"
        },
        "id": "WJm4RQNb4RFD",
        "outputId": "26d79f03-7e24-45dd-aa12-0b02f566d26e"
      },
      "source": [
        "df.info()"
      ],
      "execution_count": null,
      "outputs": [
        {
          "output_type": "stream",
          "name": "stdout",
          "text": [
            "<class 'pandas.core.frame.DataFrame'>\n",
            "RangeIndex: 3762 entries, 0 to 3761\n",
            "Data columns (total 15 columns):\n",
            " #   Column              Non-Null Count  Dtype  \n",
            "---  ------              --------------  -----  \n",
            " 0   Image               3762 non-null   object \n",
            " 1   Class               3762 non-null   int64  \n",
            " 2   Mean                3762 non-null   float64\n",
            " 3   Variance            3762 non-null   float64\n",
            " 4   Standard Deviation  3762 non-null   float64\n",
            " 5   Entropy             3762 non-null   float64\n",
            " 6   Skewness            3762 non-null   float64\n",
            " 7   Kurtosis            3762 non-null   float64\n",
            " 8   Contrast            3762 non-null   float64\n",
            " 9   Energy              3762 non-null   float64\n",
            " 10  ASM                 3762 non-null   float64\n",
            " 11  Homogeneity         3762 non-null   float64\n",
            " 12  Dissimilarity       3762 non-null   float64\n",
            " 13  Correlation         3762 non-null   float64\n",
            " 14  Coarseness          3762 non-null   float64\n",
            "dtypes: float64(13), int64(1), object(1)\n",
            "memory usage: 441.0+ KB\n"
          ]
        }
      ]
    },
    {
      "cell_type": "code",
      "metadata": {
        "colab": {
          "base_uri": "https://localhost:8080/"
        },
        "id": "y0WVlwSgCDS_",
        "outputId": "9e50c37d-f9a4-4054-c294-93fd0dc8da7b"
      },
      "source": [
        "target=['Non-Tumor','Tumor']\n",
        "print(\"Tagret to classify after training: \",target)"
      ],
      "execution_count": null,
      "outputs": [
        {
          "output_type": "stream",
          "name": "stdout",
          "text": [
            "Tagret to classify after training:  ['Non-Tumor', 'Tumor']\n"
          ]
        }
      ]
    },
    {
      "cell_type": "code",
      "metadata": {
        "id": "ka9BezDkCEEM"
      },
      "source": [
        "dfMod['ClassName'] =dfMod.Class.apply(lambda x: target[x])"
      ],
      "execution_count": null,
      "outputs": []
    },
    {
      "cell_type": "code",
      "metadata": {
        "colab": {
          "base_uri": "https://localhost:8080/",
          "height": 252
        },
        "id": "fveV-yI5CH26",
        "outputId": "cfd88c0c-f397-4c38-f5a7-b062c72b97d9"
      },
      "source": [
        "print(\"\\n printing first five data from dataframe with taget equal to 0:\\n\")\n",
        "dfMod[dfMod.Class==0].head()\n"
      ],
      "execution_count": null,
      "outputs": [
        {
          "output_type": "stream",
          "name": "stdout",
          "text": [
            "\n",
            " printing first five data from dataframe with taget equal to 0:\n",
            "\n"
          ]
        },
        {
          "output_type": "execute_result",
          "data": {
            "text/html": [
              "<div>\n",
              "<style scoped>\n",
              "    .dataframe tbody tr th:only-of-type {\n",
              "        vertical-align: middle;\n",
              "    }\n",
              "\n",
              "    .dataframe tbody tr th {\n",
              "        vertical-align: top;\n",
              "    }\n",
              "\n",
              "    .dataframe thead th {\n",
              "        text-align: right;\n",
              "    }\n",
              "</style>\n",
              "<table border=\"1\" class=\"dataframe\">\n",
              "  <thead>\n",
              "    <tr style=\"text-align: right;\">\n",
              "      <th></th>\n",
              "      <th>Class</th>\n",
              "      <th>Entropy</th>\n",
              "      <th>Skewness</th>\n",
              "      <th>Kurtosis</th>\n",
              "      <th>Contrast</th>\n",
              "      <th>Energy</th>\n",
              "      <th>ASM</th>\n",
              "      <th>Homogeneity</th>\n",
              "      <th>Dissimilarity</th>\n",
              "      <th>Correlation</th>\n",
              "      <th>Coarseness</th>\n",
              "      <th>ClassName</th>\n",
              "    </tr>\n",
              "  </thead>\n",
              "  <tbody>\n",
              "    <tr>\n",
              "      <th>0</th>\n",
              "      <td>0</td>\n",
              "      <td>0.109059</td>\n",
              "      <td>4.276477</td>\n",
              "      <td>18.900575</td>\n",
              "      <td>98.613971</td>\n",
              "      <td>0.293314</td>\n",
              "      <td>0.086033</td>\n",
              "      <td>0.530941</td>\n",
              "      <td>4.473346</td>\n",
              "      <td>0.981939</td>\n",
              "      <td>7.458341e-155</td>\n",
              "      <td>Non-Tumor</td>\n",
              "    </tr>\n",
              "    <tr>\n",
              "      <th>1</th>\n",
              "      <td>0</td>\n",
              "      <td>0.266538</td>\n",
              "      <td>3.718116</td>\n",
              "      <td>14.464618</td>\n",
              "      <td>63.858816</td>\n",
              "      <td>0.475051</td>\n",
              "      <td>0.225674</td>\n",
              "      <td>0.651352</td>\n",
              "      <td>3.220072</td>\n",
              "      <td>0.988834</td>\n",
              "      <td>7.458341e-155</td>\n",
              "      <td>Non-Tumor</td>\n",
              "    </tr>\n",
              "    <tr>\n",
              "      <th>4</th>\n",
              "      <td>0</td>\n",
              "      <td>0.146761</td>\n",
              "      <td>4.283221</td>\n",
              "      <td>19.079108</td>\n",
              "      <td>174.988756</td>\n",
              "      <td>0.343849</td>\n",
              "      <td>0.118232</td>\n",
              "      <td>0.501140</td>\n",
              "      <td>6.834689</td>\n",
              "      <td>0.972789</td>\n",
              "      <td>7.458341e-155</td>\n",
              "      <td>Non-Tumor</td>\n",
              "    </tr>\n",
              "    <tr>\n",
              "      <th>5</th>\n",
              "      <td>0</td>\n",
              "      <td>0.214086</td>\n",
              "      <td>3.729886</td>\n",
              "      <td>14.471736</td>\n",
              "      <td>105.077882</td>\n",
              "      <td>0.421587</td>\n",
              "      <td>0.177736</td>\n",
              "      <td>0.598169</td>\n",
              "      <td>4.193146</td>\n",
              "      <td>0.976485</td>\n",
              "      <td>7.458341e-155</td>\n",
              "      <td>Non-Tumor</td>\n",
              "    </tr>\n",
              "    <tr>\n",
              "      <th>6</th>\n",
              "      <td>0</td>\n",
              "      <td>0.128833</td>\n",
              "      <td>2.930095</td>\n",
              "      <td>8.969348</td>\n",
              "      <td>115.203118</td>\n",
              "      <td>0.320675</td>\n",
              "      <td>0.102832</td>\n",
              "      <td>0.532292</td>\n",
              "      <td>4.880320</td>\n",
              "      <td>0.974745</td>\n",
              "      <td>7.458341e-155</td>\n",
              "      <td>Non-Tumor</td>\n",
              "    </tr>\n",
              "  </tbody>\n",
              "</table>\n",
              "</div>"
            ],
            "text/plain": [
              "   Class   Entropy  Skewness  ...  Correlation     Coarseness  ClassName\n",
              "0      0  0.109059  4.276477  ...     0.981939  7.458341e-155  Non-Tumor\n",
              "1      0  0.266538  3.718116  ...     0.988834  7.458341e-155  Non-Tumor\n",
              "4      0  0.146761  4.283221  ...     0.972789  7.458341e-155  Non-Tumor\n",
              "5      0  0.214086  3.729886  ...     0.976485  7.458341e-155  Non-Tumor\n",
              "6      0  0.128833  2.930095  ...     0.974745  7.458341e-155  Non-Tumor\n",
              "\n",
              "[5 rows x 12 columns]"
            ]
          },
          "metadata": {},
          "execution_count": 7
        }
      ]
    },
    {
      "cell_type": "code",
      "metadata": {
        "colab": {
          "base_uri": "https://localhost:8080/",
          "height": 252
        },
        "id": "sYk8tYxkCKAh",
        "outputId": "420e70a7-588a-4c02-8379-572965cae56f"
      },
      "source": [
        "print(\"\\n printing first five data from dataframe with taget equal to 1:\\n\")\n",
        "dfMod[dfMod.Class==1].head()"
      ],
      "execution_count": null,
      "outputs": [
        {
          "output_type": "stream",
          "name": "stdout",
          "text": [
            "\n",
            " printing first five data from dataframe with taget equal to 1:\n",
            "\n"
          ]
        },
        {
          "output_type": "execute_result",
          "data": {
            "text/html": [
              "<div>\n",
              "<style scoped>\n",
              "    .dataframe tbody tr th:only-of-type {\n",
              "        vertical-align: middle;\n",
              "    }\n",
              "\n",
              "    .dataframe tbody tr th {\n",
              "        vertical-align: top;\n",
              "    }\n",
              "\n",
              "    .dataframe thead th {\n",
              "        text-align: right;\n",
              "    }\n",
              "</style>\n",
              "<table border=\"1\" class=\"dataframe\">\n",
              "  <thead>\n",
              "    <tr style=\"text-align: right;\">\n",
              "      <th></th>\n",
              "      <th>Class</th>\n",
              "      <th>Entropy</th>\n",
              "      <th>Skewness</th>\n",
              "      <th>Kurtosis</th>\n",
              "      <th>Contrast</th>\n",
              "      <th>Energy</th>\n",
              "      <th>ASM</th>\n",
              "      <th>Homogeneity</th>\n",
              "      <th>Dissimilarity</th>\n",
              "      <th>Correlation</th>\n",
              "      <th>Coarseness</th>\n",
              "      <th>ClassName</th>\n",
              "    </tr>\n",
              "  </thead>\n",
              "  <tbody>\n",
              "    <tr>\n",
              "      <th>2</th>\n",
              "      <td>1</td>\n",
              "      <td>0.001467</td>\n",
              "      <td>5.061750</td>\n",
              "      <td>26.479563</td>\n",
              "      <td>81.867206</td>\n",
              "      <td>0.031917</td>\n",
              "      <td>0.001019</td>\n",
              "      <td>0.268275</td>\n",
              "      <td>5.981800</td>\n",
              "      <td>0.978014</td>\n",
              "      <td>7.458341e-155</td>\n",
              "      <td>Tumor</td>\n",
              "    </tr>\n",
              "    <tr>\n",
              "      <th>3</th>\n",
              "      <td>1</td>\n",
              "      <td>0.001477</td>\n",
              "      <td>5.677977</td>\n",
              "      <td>33.428845</td>\n",
              "      <td>151.229741</td>\n",
              "      <td>0.032024</td>\n",
              "      <td>0.001026</td>\n",
              "      <td>0.243851</td>\n",
              "      <td>7.700919</td>\n",
              "      <td>0.964189</td>\n",
              "      <td>7.458341e-155</td>\n",
              "      <td>Tumor</td>\n",
              "    </tr>\n",
              "    <tr>\n",
              "      <th>9</th>\n",
              "      <td>1</td>\n",
              "      <td>0.003002</td>\n",
              "      <td>4.365000</td>\n",
              "      <td>19.682514</td>\n",
              "      <td>72.588783</td>\n",
              "      <td>0.045685</td>\n",
              "      <td>0.002087</td>\n",
              "      <td>0.361432</td>\n",
              "      <td>4.590795</td>\n",
              "      <td>0.967830</td>\n",
              "      <td>7.458341e-155</td>\n",
              "      <td>Tumor</td>\n",
              "    </tr>\n",
              "    <tr>\n",
              "      <th>10</th>\n",
              "      <td>1</td>\n",
              "      <td>0.002436</td>\n",
              "      <td>3.872728</td>\n",
              "      <td>15.552862</td>\n",
              "      <td>66.285462</td>\n",
              "      <td>0.041140</td>\n",
              "      <td>0.001692</td>\n",
              "      <td>0.375618</td>\n",
              "      <td>4.626763</td>\n",
              "      <td>0.968750</td>\n",
              "      <td>7.458341e-155</td>\n",
              "      <td>Tumor</td>\n",
              "    </tr>\n",
              "    <tr>\n",
              "      <th>11</th>\n",
              "      <td>1</td>\n",
              "      <td>0.003769</td>\n",
              "      <td>3.623978</td>\n",
              "      <td>14.762270</td>\n",
              "      <td>165.484791</td>\n",
              "      <td>0.051321</td>\n",
              "      <td>0.002634</td>\n",
              "      <td>0.385292</td>\n",
              "      <td>5.215436</td>\n",
              "      <td>0.958601</td>\n",
              "      <td>7.458341e-155</td>\n",
              "      <td>Tumor</td>\n",
              "    </tr>\n",
              "  </tbody>\n",
              "</table>\n",
              "</div>"
            ],
            "text/plain": [
              "    Class   Entropy  Skewness  ...  Correlation     Coarseness  ClassName\n",
              "2       1  0.001467  5.061750  ...     0.978014  7.458341e-155      Tumor\n",
              "3       1  0.001477  5.677977  ...     0.964189  7.458341e-155      Tumor\n",
              "9       1  0.003002  4.365000  ...     0.967830  7.458341e-155      Tumor\n",
              "10      1  0.002436  3.872728  ...     0.968750  7.458341e-155      Tumor\n",
              "11      1  0.003769  3.623978  ...     0.958601  7.458341e-155      Tumor\n",
              "\n",
              "[5 rows x 12 columns]"
            ]
          },
          "metadata": {},
          "execution_count": 8
        }
      ]
    },
    {
      "cell_type": "code",
      "metadata": {
        "id": "inKOm8TcDZCh"
      },
      "source": [
        "from sklearn.model_selection import train_test_split\n",
        "# Droping un-nessasery data and considering important data for training in x\n",
        "X_train, X_test, y_train, y_test = train_test_split(dfMod.drop(['Class','ClassName'],axis=1), \n",
        "                                                    dfMod.Class, test_size=0.2)"
      ],
      "execution_count": null,
      "outputs": []
    },
    {
      "cell_type": "code",
      "metadata": {
        "colab": {
          "base_uri": "https://localhost:8080/",
          "height": 202
        },
        "id": "cPrKK-YvD743",
        "outputId": "54839ef1-0dd6-4a56-d723-0723d27e2b63"
      },
      "source": [
        "# Creating training dataframe from splited data\n",
        "df_train=pd.concat([X_train,y_train],axis=1)\n",
        "df_train.head()"
      ],
      "execution_count": null,
      "outputs": [
        {
          "output_type": "execute_result",
          "data": {
            "text/html": [
              "<div>\n",
              "<style scoped>\n",
              "    .dataframe tbody tr th:only-of-type {\n",
              "        vertical-align: middle;\n",
              "    }\n",
              "\n",
              "    .dataframe tbody tr th {\n",
              "        vertical-align: top;\n",
              "    }\n",
              "\n",
              "    .dataframe thead th {\n",
              "        text-align: right;\n",
              "    }\n",
              "</style>\n",
              "<table border=\"1\" class=\"dataframe\">\n",
              "  <thead>\n",
              "    <tr style=\"text-align: right;\">\n",
              "      <th></th>\n",
              "      <th>Entropy</th>\n",
              "      <th>Skewness</th>\n",
              "      <th>Kurtosis</th>\n",
              "      <th>Contrast</th>\n",
              "      <th>Energy</th>\n",
              "      <th>ASM</th>\n",
              "      <th>Homogeneity</th>\n",
              "      <th>Dissimilarity</th>\n",
              "      <th>Correlation</th>\n",
              "      <th>Coarseness</th>\n",
              "      <th>Class</th>\n",
              "    </tr>\n",
              "  </thead>\n",
              "  <tbody>\n",
              "    <tr>\n",
              "      <th>970</th>\n",
              "      <td>0.001476</td>\n",
              "      <td>3.302441</td>\n",
              "      <td>11.706961</td>\n",
              "      <td>174.416118</td>\n",
              "      <td>0.032084</td>\n",
              "      <td>0.001029</td>\n",
              "      <td>0.279393</td>\n",
              "      <td>7.593601</td>\n",
              "      <td>0.965906</td>\n",
              "      <td>7.458341e-155</td>\n",
              "      <td>1</td>\n",
              "    </tr>\n",
              "    <tr>\n",
              "      <th>2433</th>\n",
              "      <td>0.056104</td>\n",
              "      <td>2.093292</td>\n",
              "      <td>4.767498</td>\n",
              "      <td>82.100077</td>\n",
              "      <td>0.205894</td>\n",
              "      <td>0.042392</td>\n",
              "      <td>0.559670</td>\n",
              "      <td>3.582996</td>\n",
              "      <td>0.945197</td>\n",
              "      <td>7.458341e-155</td>\n",
              "      <td>0</td>\n",
              "    </tr>\n",
              "    <tr>\n",
              "      <th>1537</th>\n",
              "      <td>0.258915</td>\n",
              "      <td>3.443764</td>\n",
              "      <td>13.180046</td>\n",
              "      <td>124.100808</td>\n",
              "      <td>0.467335</td>\n",
              "      <td>0.218402</td>\n",
              "      <td>0.674346</td>\n",
              "      <td>3.054163</td>\n",
              "      <td>0.961567</td>\n",
              "      <td>7.458341e-155</td>\n",
              "      <td>0</td>\n",
              "    </tr>\n",
              "    <tr>\n",
              "      <th>673</th>\n",
              "      <td>0.110440</td>\n",
              "      <td>2.965006</td>\n",
              "      <td>9.087113</td>\n",
              "      <td>77.699897</td>\n",
              "      <td>0.294844</td>\n",
              "      <td>0.086933</td>\n",
              "      <td>0.570710</td>\n",
              "      <td>3.334763</td>\n",
              "      <td>0.959394</td>\n",
              "      <td>7.458341e-155</td>\n",
              "      <td>0</td>\n",
              "    </tr>\n",
              "    <tr>\n",
              "      <th>27</th>\n",
              "      <td>0.068330</td>\n",
              "      <td>4.231537</td>\n",
              "      <td>18.775104</td>\n",
              "      <td>109.319492</td>\n",
              "      <td>0.228934</td>\n",
              "      <td>0.052411</td>\n",
              "      <td>0.503782</td>\n",
              "      <td>4.400896</td>\n",
              "      <td>0.966815</td>\n",
              "      <td>7.458341e-155</td>\n",
              "      <td>0</td>\n",
              "    </tr>\n",
              "  </tbody>\n",
              "</table>\n",
              "</div>"
            ],
            "text/plain": [
              "       Entropy  Skewness   Kurtosis  ...  Correlation     Coarseness  Class\n",
              "970   0.001476  3.302441  11.706961  ...     0.965906  7.458341e-155      1\n",
              "2433  0.056104  2.093292   4.767498  ...     0.945197  7.458341e-155      0\n",
              "1537  0.258915  3.443764  13.180046  ...     0.961567  7.458341e-155      0\n",
              "673   0.110440  2.965006   9.087113  ...     0.959394  7.458341e-155      0\n",
              "27    0.068330  4.231537  18.775104  ...     0.966815  7.458341e-155      0\n",
              "\n",
              "[5 rows x 11 columns]"
            ]
          },
          "metadata": {},
          "execution_count": 10
        }
      ]
    },
    {
      "cell_type": "code",
      "metadata": {
        "colab": {
          "base_uri": "https://localhost:8080/",
          "height": 202
        },
        "id": "ElFHbIMeD_bI",
        "outputId": "bc506425-8328-43b3-90e6-ccb77553dfab"
      },
      "source": [
        "df_test=pd.concat([X_test,y_test],axis=1)\n",
        "df_test.head()"
      ],
      "execution_count": null,
      "outputs": [
        {
          "output_type": "execute_result",
          "data": {
            "text/html": [
              "<div>\n",
              "<style scoped>\n",
              "    .dataframe tbody tr th:only-of-type {\n",
              "        vertical-align: middle;\n",
              "    }\n",
              "\n",
              "    .dataframe tbody tr th {\n",
              "        vertical-align: top;\n",
              "    }\n",
              "\n",
              "    .dataframe thead th {\n",
              "        text-align: right;\n",
              "    }\n",
              "</style>\n",
              "<table border=\"1\" class=\"dataframe\">\n",
              "  <thead>\n",
              "    <tr style=\"text-align: right;\">\n",
              "      <th></th>\n",
              "      <th>Entropy</th>\n",
              "      <th>Skewness</th>\n",
              "      <th>Kurtosis</th>\n",
              "      <th>Contrast</th>\n",
              "      <th>Energy</th>\n",
              "      <th>ASM</th>\n",
              "      <th>Homogeneity</th>\n",
              "      <th>Dissimilarity</th>\n",
              "      <th>Correlation</th>\n",
              "      <th>Coarseness</th>\n",
              "      <th>Class</th>\n",
              "    </tr>\n",
              "  </thead>\n",
              "  <tbody>\n",
              "    <tr>\n",
              "      <th>3699</th>\n",
              "      <td>0.109351</td>\n",
              "      <td>2.398633</td>\n",
              "      <td>6.275350</td>\n",
              "      <td>117.309516</td>\n",
              "      <td>0.293772</td>\n",
              "      <td>0.086302</td>\n",
              "      <td>0.522898</td>\n",
              "      <td>4.555838</td>\n",
              "      <td>0.968757</td>\n",
              "      <td>7.458341e-155</td>\n",
              "      <td>0</td>\n",
              "    </tr>\n",
              "    <tr>\n",
              "      <th>2643</th>\n",
              "      <td>0.167707</td>\n",
              "      <td>3.220618</td>\n",
              "      <td>10.832983</td>\n",
              "      <td>64.223560</td>\n",
              "      <td>0.369228</td>\n",
              "      <td>0.136329</td>\n",
              "      <td>0.607826</td>\n",
              "      <td>3.122785</td>\n",
              "      <td>0.980811</td>\n",
              "      <td>7.458341e-155</td>\n",
              "      <td>0</td>\n",
              "    </tr>\n",
              "    <tr>\n",
              "      <th>854</th>\n",
              "      <td>0.089985</td>\n",
              "      <td>2.331024</td>\n",
              "      <td>5.704141</td>\n",
              "      <td>49.729749</td>\n",
              "      <td>0.264303</td>\n",
              "      <td>0.069856</td>\n",
              "      <td>0.570825</td>\n",
              "      <td>2.696535</td>\n",
              "      <td>0.969254</td>\n",
              "      <td>7.458341e-155</td>\n",
              "      <td>0</td>\n",
              "    </tr>\n",
              "    <tr>\n",
              "      <th>357</th>\n",
              "      <td>0.006911</td>\n",
              "      <td>6.592357</td>\n",
              "      <td>45.780610</td>\n",
              "      <td>264.976051</td>\n",
              "      <td>0.069897</td>\n",
              "      <td>0.004886</td>\n",
              "      <td>0.368187</td>\n",
              "      <td>7.428641</td>\n",
              "      <td>0.966718</td>\n",
              "      <td>7.458341e-155</td>\n",
              "      <td>1</td>\n",
              "    </tr>\n",
              "    <tr>\n",
              "      <th>1599</th>\n",
              "      <td>0.034590</td>\n",
              "      <td>4.748269</td>\n",
              "      <td>23.239375</td>\n",
              "      <td>194.868205</td>\n",
              "      <td>0.160403</td>\n",
              "      <td>0.025729</td>\n",
              "      <td>0.431861</td>\n",
              "      <td>5.176923</td>\n",
              "      <td>0.976945</td>\n",
              "      <td>7.458341e-155</td>\n",
              "      <td>1</td>\n",
              "    </tr>\n",
              "  </tbody>\n",
              "</table>\n",
              "</div>"
            ],
            "text/plain": [
              "       Entropy  Skewness   Kurtosis  ...  Correlation     Coarseness  Class\n",
              "3699  0.109351  2.398633   6.275350  ...     0.968757  7.458341e-155      0\n",
              "2643  0.167707  3.220618  10.832983  ...     0.980811  7.458341e-155      0\n",
              "854   0.089985  2.331024   5.704141  ...     0.969254  7.458341e-155      0\n",
              "357   0.006911  6.592357  45.780610  ...     0.966718  7.458341e-155      1\n",
              "1599  0.034590  4.748269  23.239375  ...     0.976945  7.458341e-155      1\n",
              "\n",
              "[5 rows x 11 columns]"
            ]
          },
          "metadata": {},
          "execution_count": 11
        }
      ]
    },
    {
      "cell_type": "code",
      "metadata": {
        "id": "hG9A-X-DeMZ1"
      },
      "source": [
        "import math\n",
        "from sklearn.neighbors import KNeighborsClassifier\n",
        "k=int(math.sqrt(len(X_train)))\n",
        "if k%2==0:\n",
        "  k+=-1\n",
        "model = KNeighborsClassifier(n_neighbors=k)"
      ],
      "execution_count": null,
      "outputs": []
    },
    {
      "cell_type": "code",
      "metadata": {
        "id": "ejlvhA0iecXj",
        "colab": {
          "base_uri": "https://localhost:8080/",
          "height": 415
        },
        "outputId": "65f1252d-0739-4703-f4b7-afc1c4dc4537"
      },
      "source": [
        "model.fit(X_train,y_train)\n",
        "# Predicting test data and comparing with actual data \n",
        "df_test['Predicted_Class'] = model.predict(X_test)\n",
        "df_test[['Class','Predicted_Class']]"
      ],
      "execution_count": null,
      "outputs": [
        {
          "output_type": "execute_result",
          "data": {
            "text/html": [
              "<div>\n",
              "<style scoped>\n",
              "    .dataframe tbody tr th:only-of-type {\n",
              "        vertical-align: middle;\n",
              "    }\n",
              "\n",
              "    .dataframe tbody tr th {\n",
              "        vertical-align: top;\n",
              "    }\n",
              "\n",
              "    .dataframe thead th {\n",
              "        text-align: right;\n",
              "    }\n",
              "</style>\n",
              "<table border=\"1\" class=\"dataframe\">\n",
              "  <thead>\n",
              "    <tr style=\"text-align: right;\">\n",
              "      <th></th>\n",
              "      <th>Class</th>\n",
              "      <th>Predicted_Class</th>\n",
              "    </tr>\n",
              "  </thead>\n",
              "  <tbody>\n",
              "    <tr>\n",
              "      <th>3699</th>\n",
              "      <td>0</td>\n",
              "      <td>0</td>\n",
              "    </tr>\n",
              "    <tr>\n",
              "      <th>2643</th>\n",
              "      <td>0</td>\n",
              "      <td>0</td>\n",
              "    </tr>\n",
              "    <tr>\n",
              "      <th>854</th>\n",
              "      <td>0</td>\n",
              "      <td>0</td>\n",
              "    </tr>\n",
              "    <tr>\n",
              "      <th>357</th>\n",
              "      <td>1</td>\n",
              "      <td>1</td>\n",
              "    </tr>\n",
              "    <tr>\n",
              "      <th>1599</th>\n",
              "      <td>1</td>\n",
              "      <td>1</td>\n",
              "    </tr>\n",
              "    <tr>\n",
              "      <th>...</th>\n",
              "      <td>...</td>\n",
              "      <td>...</td>\n",
              "    </tr>\n",
              "    <tr>\n",
              "      <th>497</th>\n",
              "      <td>0</td>\n",
              "      <td>0</td>\n",
              "    </tr>\n",
              "    <tr>\n",
              "      <th>2372</th>\n",
              "      <td>1</td>\n",
              "      <td>1</td>\n",
              "    </tr>\n",
              "    <tr>\n",
              "      <th>2400</th>\n",
              "      <td>0</td>\n",
              "      <td>0</td>\n",
              "    </tr>\n",
              "    <tr>\n",
              "      <th>3098</th>\n",
              "      <td>1</td>\n",
              "      <td>0</td>\n",
              "    </tr>\n",
              "    <tr>\n",
              "      <th>1094</th>\n",
              "      <td>0</td>\n",
              "      <td>0</td>\n",
              "    </tr>\n",
              "  </tbody>\n",
              "</table>\n",
              "<p>753 rows × 2 columns</p>\n",
              "</div>"
            ],
            "text/plain": [
              "      Class  Predicted_Class\n",
              "3699      0                0\n",
              "2643      0                0\n",
              "854       0                0\n",
              "357       1                1\n",
              "1599      1                1\n",
              "...     ...              ...\n",
              "497       0                0\n",
              "2372      1                1\n",
              "2400      0                0\n",
              "3098      1                0\n",
              "1094      0                0\n",
              "\n",
              "[753 rows x 2 columns]"
            ]
          },
          "metadata": {},
          "execution_count": 13
        }
      ]
    },
    {
      "cell_type": "code",
      "metadata": {
        "colab": {
          "base_uri": "https://localhost:8080/"
        },
        "id": "kD2BRxXaFZb0",
        "outputId": "7ddc1174-8dab-451b-8ca7-7b74e28db63d"
      },
      "source": [
        "# finding accuracy of trained model with splitted test data set using score method\n",
        "print(\"Accuracy of Trained model is: \",model.score(X_test,y_test))"
      ],
      "execution_count": null,
      "outputs": [
        {
          "output_type": "stream",
          "name": "stdout",
          "text": [
            "Accuracy of Trained model is:  0.7715803452855245\n"
          ]
        }
      ]
    },
    {
      "cell_type": "code",
      "metadata": {
        "colab": {
          "base_uri": "https://localhost:8080/"
        },
        "id": "sEt_rDCgF6Pu",
        "outputId": "4dd40e12-ae6f-4aa3-a5e8-5f3ed87bd662"
      },
      "source": [
        "print(\"Predicting value for [[0.3,3.5,15,150,0.5,0.06,0.6,5,0.99,8]] using trained model:\" , target[model.predict([[0.3,3.5,15,150,0.5,0.06,0.6,5,0.99,8]])[0]])"
      ],
      "execution_count": null,
      "outputs": [
        {
          "output_type": "stream",
          "name": "stdout",
          "text": [
            "Predicting value for [[0.3,3.5,15,150,0.5,0.06,0.6,5,0.99,8]] using trained model: Tumor\n"
          ]
        },
        {
          "output_type": "stream",
          "name": "stderr",
          "text": [
            "/usr/local/lib/python3.7/dist-packages/sklearn/base.py:446: UserWarning: X does not have valid feature names, but KNeighborsClassifier was fitted with feature names\n",
            "  \"X does not have valid feature names, but\"\n"
          ]
        }
      ]
    },
    {
      "cell_type": "code",
      "metadata": {
        "colab": {
          "base_uri": "https://localhost:8080/"
        },
        "id": "8u_COd-BFNAA",
        "outputId": "b4af984c-4e61-4136-ae0b-39e47c8a98bb"
      },
      "source": [
        "# Creating confusion matrix\n",
        "from sklearn.metrics import confusion_matrix\n",
        "y_pred = model.predict(X_test)\n",
        "cm = confusion_matrix(y_test, y_pred)\n",
        "cm"
      ],
      "execution_count": null,
      "outputs": [
        {
          "output_type": "execute_result",
          "data": {
            "text/plain": [
              "array([[348,  66],\n",
              "       [106, 233]])"
            ]
          },
          "metadata": {},
          "execution_count": 16
        }
      ]
    },
    {
      "cell_type": "code",
      "metadata": {
        "colab": {
          "base_uri": "https://localhost:8080/",
          "height": 296
        },
        "id": "vSdPkwSNFRLX",
        "outputId": "77e475e4-11aa-4309-a2a7-85d70f633134"
      },
      "source": [
        "%matplotlib inline\n",
        "import matplotlib.pyplot as plt\n",
        "import seaborn as sns\n",
        "plt.figure(figsize=(6,4))\n",
        "sns.heatmap(cm, annot=True)\n",
        "plt.xlabel('Predicted')\n",
        "plt.ylabel('Truth')"
      ],
      "execution_count": null,
      "outputs": [
        {
          "output_type": "execute_result",
          "data": {
            "text/plain": [
              "Text(33.0, 0.5, 'Truth')"
            ]
          },
          "metadata": {},
          "execution_count": 17
        },
        {
          "output_type": "display_data",
          "data": {
            "image/png": "[encoded data removed]",
            "text/plain": [
              "<Figure size 432x288 with 2 Axes>"
            ]
          },
          "metadata": {
            "needs_background": "light"
          }
        }
      ]
    },
    {
      "cell_type": "code",
      "metadata": {
        "id": "A6GXZdq6Fx98",
        "colab": {
          "base_uri": "https://localhost:8080/"
        },
        "outputId": "f4eaf7fd-74d4-4483-b1a9-01261749199c"
      },
      "source": [
        "from sklearn.metrics import classification_report\n",
        "print(classification_report(y_test, y_pred))"
      ],
      "execution_count": null,
      "outputs": [
        {
          "output_type": "stream",
          "name": "stdout",
          "text": [
            "              precision    recall  f1-score   support\n",
            "\n",
            "           0       0.77      0.84      0.80       414\n",
            "           1       0.78      0.69      0.73       339\n",
            "\n",
            "    accuracy                           0.77       753\n",
            "   macro avg       0.77      0.76      0.77       753\n",
            "weighted avg       0.77      0.77      0.77       753\n",
            "\n"
          ]
        }
      ]
    },
    {
      "cell_type": "code",
      "metadata": {
        "colab": {
          "base_uri": "https://localhost:8080/"
        },
        "id": "NrIrqGBwEo2z",
        "outputId": "00f17dc4-0a9f-4357-989c-42804523b9ce"
      },
      "source": [
        "from sklearn.metrics import classification_report\n",
        "\n",
        "print(classification_report(y_train, model.predict(X_train)))"
      ],
      "execution_count": null,
      "outputs": [
        {
          "output_type": "stream",
          "name": "stdout",
          "text": [
            "              precision    recall  f1-score   support\n",
            "\n",
            "           0       0.77      0.83      0.80      1665\n",
            "           1       0.77      0.69      0.73      1344\n",
            "\n",
            "    accuracy                           0.77      3009\n",
            "   macro avg       0.77      0.76      0.76      3009\n",
            "weighted avg       0.77      0.77      0.77      3009\n",
            "\n"
          ]
        }
      ]
    }
  ]
}