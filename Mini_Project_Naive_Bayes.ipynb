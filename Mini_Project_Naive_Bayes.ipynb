{
  "nbformat": 4,
  "nbformat_minor": 0,
  "metadata": {
    "colab": {
      "name": "Mini-Project_Naive_Bayes.ipynb",
      "provenance": [],
      "collapsed_sections": []
    },
    "kernelspec": {
      "name": "python3",
      "display_name": "Python 3"
    },
    "language_info": {
      "name": "python"
    }
  },
  "cells": [
    {
      "cell_type": "code",
      "metadata": {
        "id": "O282I2eu_05i"
      },
      "source": [
        "# loading required library\n",
        "import pandas as pd"
      ],
      "execution_count": null,
      "outputs": []
    },
    {
      "cell_type": "code",
      "metadata": {
        "colab": {
          "base_uri": "https://localhost:8080/"
        },
        "id": "Sr8fFysWATW0",
        "outputId": "a90c8f41-06c8-4a31-c9f3-77e9c0c32394"
      },
      "source": [
        "df = pd.read_csv(\"BrainTumor.csv\")\n",
        "df.columns"
      ],
      "execution_count": null,
      "outputs": [
        {
          "output_type": "execute_result",
          "data": {
            "text/plain": [
              "Index(['Image', 'Class', 'Mean', 'Variance', 'Standard Deviation', 'Entropy',\n",
              "       'Skewness', 'Kurtosis', 'Contrast', 'Energy', 'ASM', 'Homogeneity',\n",
              "       'Dissimilarity', 'Correlation', 'Coarseness'],\n",
              "      dtype='object')"
            ]
          },
          "metadata": {},
          "execution_count": 2
        }
      ]
    },
    {
      "cell_type": "code",
      "metadata": {
        "id": "feTuuu_gC-xr"
      },
      "source": [
        "# droping some column from data set \n",
        "dfMod=df.drop(['Image','Mean','Variance','Standard Deviation'],axis=1)"
      ],
      "execution_count": null,
      "outputs": []
    },
    {
      "cell_type": "code",
      "metadata": {
        "colab": {
          "base_uri": "https://localhost:8080/"
        },
        "id": "ofdcaT72eVUv",
        "outputId": "e4ad01e6-f007-453c-8195-7f93762a5a70"
      },
      "source": [
        "df.info()"
      ],
      "execution_count": null,
      "outputs": [
        {
          "output_type": "stream",
          "name": "stdout",
          "text": [
            "<class 'pandas.core.frame.DataFrame'>\n",
            "RangeIndex: 3762 entries, 0 to 3761\n",
            "Data columns (total 15 columns):\n",
            " #   Column              Non-Null Count  Dtype  \n",
            "---  ------              --------------  -----  \n",
            " 0   Image               3762 non-null   object \n",
            " 1   Class               3762 non-null   int64  \n",
            " 2   Mean                3762 non-null   float64\n",
            " 3   Variance            3762 non-null   float64\n",
            " 4   Standard Deviation  3762 non-null   float64\n",
            " 5   Entropy             3762 non-null   float64\n",
            " 6   Skewness            3762 non-null   float64\n",
            " 7   Kurtosis            3762 non-null   float64\n",
            " 8   Contrast            3762 non-null   float64\n",
            " 9   Energy              3762 non-null   float64\n",
            " 10  ASM                 3762 non-null   float64\n",
            " 11  Homogeneity         3762 non-null   float64\n",
            " 12  Dissimilarity       3762 non-null   float64\n",
            " 13  Correlation         3762 non-null   float64\n",
            " 14  Coarseness          3762 non-null   float64\n",
            "dtypes: float64(13), int64(1), object(1)\n",
            "memory usage: 441.0+ KB\n"
          ]
        }
      ]
    },
    {
      "cell_type": "code",
      "metadata": {
        "colab": {
          "base_uri": "https://localhost:8080/"
        },
        "id": "y0WVlwSgCDS_",
        "outputId": "5700b534-36e0-4a8e-c777-8e9cc8d78d17"
      },
      "source": [
        "target=['Non-Tumor','Tumor']\n",
        "print(\"Tagret to classify after training: \",target)"
      ],
      "execution_count": null,
      "outputs": [
        {
          "output_type": "stream",
          "name": "stdout",
          "text": [
            "Tagret to classify after training:  ['Non-Tumor', 'Tumor']\n"
          ]
        }
      ]
    },
    {
      "cell_type": "code",
      "metadata": {
        "id": "ka9BezDkCEEM"
      },
      "source": [
        "dfMod['ClassName'] =dfMod.Class.apply(lambda x: target[x])"
      ],
      "execution_count": null,
      "outputs": []
    },
    {
      "cell_type": "code",
      "metadata": {
        "colab": {
          "base_uri": "https://localhost:8080/",
          "height": 252
        },
        "id": "fveV-yI5CH26",
        "outputId": "c9faf0e4-9e4d-4d2a-f008-ff8ee02ffe37"
      },
      "source": [
        "print(\"\\n printing first five data from dataframe with taget equal to 0:\\n\")\n",
        "dfMod[dfMod.Class==0].head()\n"
      ],
      "execution_count": null,
      "outputs": [
        {
          "output_type": "stream",
          "name": "stdout",
          "text": [
            "\n",
            " printing first five data from dataframe with taget equal to 0:\n",
            "\n"
          ]
        },
        {
          "output_type": "execute_result",
          "data": {
            "text/html": [
              "<div>\n",
              "<style scoped>\n",
              "    .dataframe tbody tr th:only-of-type {\n",
              "        vertical-align: middle;\n",
              "    }\n",
              "\n",
              "    .dataframe tbody tr th {\n",
              "        vertical-align: top;\n",
              "    }\n",
              "\n",
              "    .dataframe thead th {\n",
              "        text-align: right;\n",
              "    }\n",
              "</style>\n",
              "<table border=\"1\" class=\"dataframe\">\n",
              "  <thead>\n",
              "    <tr style=\"text-align: right;\">\n",
              "      <th></th>\n",
              "      <th>Class</th>\n",
              "      <th>Entropy</th>\n",
              "      <th>Skewness</th>\n",
              "      <th>Kurtosis</th>\n",
              "      <th>Contrast</th>\n",
              "      <th>Energy</th>\n",
              "      <th>ASM</th>\n",
              "      <th>Homogeneity</th>\n",
              "      <th>Dissimilarity</th>\n",
              "      <th>Correlation</th>\n",
              "      <th>Coarseness</th>\n",
              "      <th>ClassName</th>\n",
              "    </tr>\n",
              "  </thead>\n",
              "  <tbody>\n",
              "    <tr>\n",
              "      <th>0</th>\n",
              "      <td>0</td>\n",
              "      <td>0.109059</td>\n",
              "      <td>4.276477</td>\n",
              "      <td>18.900575</td>\n",
              "      <td>98.613971</td>\n",
              "      <td>0.293314</td>\n",
              "      <td>0.086033</td>\n",
              "      <td>0.530941</td>\n",
              "      <td>4.473346</td>\n",
              "      <td>0.981939</td>\n",
              "      <td>7.458341e-155</td>\n",
              "      <td>Non-Tumor</td>\n",
              "    </tr>\n",
              "    <tr>\n",
              "      <th>1</th>\n",
              "      <td>0</td>\n",
              "      <td>0.266538</td>\n",
              "      <td>3.718116</td>\n",
              "      <td>14.464618</td>\n",
              "      <td>63.858816</td>\n",
              "      <td>0.475051</td>\n",
              "      <td>0.225674</td>\n",
              "      <td>0.651352</td>\n",
              "      <td>3.220072</td>\n",
              "      <td>0.988834</td>\n",
              "      <td>7.458341e-155</td>\n",
              "      <td>Non-Tumor</td>\n",
              "    </tr>\n",
              "    <tr>\n",
              "      <th>4</th>\n",
              "      <td>0</td>\n",
              "      <td>0.146761</td>\n",
              "      <td>4.283221</td>\n",
              "      <td>19.079108</td>\n",
              "      <td>174.988756</td>\n",
              "      <td>0.343849</td>\n",
              "      <td>0.118232</td>\n",
              "      <td>0.501140</td>\n",
              "      <td>6.834689</td>\n",
              "      <td>0.972789</td>\n",
              "      <td>7.458341e-155</td>\n",
              "      <td>Non-Tumor</td>\n",
              "    </tr>\n",
              "    <tr>\n",
              "      <th>5</th>\n",
              "      <td>0</td>\n",
              "      <td>0.214086</td>\n",
              "      <td>3.729886</td>\n",
              "      <td>14.471736</td>\n",
              "      <td>105.077882</td>\n",
              "      <td>0.421587</td>\n",
              "      <td>0.177736</td>\n",
              "      <td>0.598169</td>\n",
              "      <td>4.193146</td>\n",
              "      <td>0.976485</td>\n",
              "      <td>7.458341e-155</td>\n",
              "      <td>Non-Tumor</td>\n",
              "    </tr>\n",
              "    <tr>\n",
              "      <th>6</th>\n",
              "      <td>0</td>\n",
              "      <td>0.128833</td>\n",
              "      <td>2.930095</td>\n",
              "      <td>8.969348</td>\n",
              "      <td>115.203118</td>\n",
              "      <td>0.320675</td>\n",
              "      <td>0.102832</td>\n",
              "      <td>0.532292</td>\n",
              "      <td>4.880320</td>\n",
              "      <td>0.974745</td>\n",
              "      <td>7.458341e-155</td>\n",
              "      <td>Non-Tumor</td>\n",
              "    </tr>\n",
              "  </tbody>\n",
              "</table>\n",
              "</div>"
            ],
            "text/plain": [
              "   Class   Entropy  Skewness  ...  Correlation     Coarseness  ClassName\n",
              "0      0  0.109059  4.276477  ...     0.981939  7.458341e-155  Non-Tumor\n",
              "1      0  0.266538  3.718116  ...     0.988834  7.458341e-155  Non-Tumor\n",
              "4      0  0.146761  4.283221  ...     0.972789  7.458341e-155  Non-Tumor\n",
              "5      0  0.214086  3.729886  ...     0.976485  7.458341e-155  Non-Tumor\n",
              "6      0  0.128833  2.930095  ...     0.974745  7.458341e-155  Non-Tumor\n",
              "\n",
              "[5 rows x 12 columns]"
            ]
          },
          "metadata": {},
          "execution_count": 7
        }
      ]
    },
    {
      "cell_type": "code",
      "metadata": {
        "colab": {
          "base_uri": "https://localhost:8080/",
          "height": 252
        },
        "id": "sYk8tYxkCKAh",
        "outputId": "bc2a096c-6076-47ef-9a15-b6a0025e3b35"
      },
      "source": [
        "print(\"\\n printing first five data from dataframe with taget equal to 1:\\n\")\n",
        "dfMod[dfMod.Class==1].head()"
      ],
      "execution_count": null,
      "outputs": [
        {
          "output_type": "stream",
          "name": "stdout",
          "text": [
            "\n",
            " printing first five data from dataframe with taget equal to 1:\n",
            "\n"
          ]
        },
        {
          "output_type": "execute_result",
          "data": {
            "text/html": [
              "<div>\n",
              "<style scoped>\n",
              "    .dataframe tbody tr th:only-of-type {\n",
              "        vertical-align: middle;\n",
              "    }\n",
              "\n",
              "    .dataframe tbody tr th {\n",
              "        vertical-align: top;\n",
              "    }\n",
              "\n",
              "    .dataframe thead th {\n",
              "        text-align: right;\n",
              "    }\n",
              "</style>\n",
              "<table border=\"1\" class=\"dataframe\">\n",
              "  <thead>\n",
              "    <tr style=\"text-align: right;\">\n",
              "      <th></th>\n",
              "      <th>Class</th>\n",
              "      <th>Entropy</th>\n",
              "      <th>Skewness</th>\n",
              "      <th>Kurtosis</th>\n",
              "      <th>Contrast</th>\n",
              "      <th>Energy</th>\n",
              "      <th>ASM</th>\n",
              "      <th>Homogeneity</th>\n",
              "      <th>Dissimilarity</th>\n",
              "      <th>Correlation</th>\n",
              "      <th>Coarseness</th>\n",
              "      <th>ClassName</th>\n",
              "    </tr>\n",
              "  </thead>\n",
              "  <tbody>\n",
              "    <tr>\n",
              "      <th>2</th>\n",
              "      <td>1</td>\n",
              "      <td>0.001467</td>\n",
              "      <td>5.061750</td>\n",
              "      <td>26.479563</td>\n",
              "      <td>81.867206</td>\n",
              "      <td>0.031917</td>\n",
              "      <td>0.001019</td>\n",
              "      <td>0.268275</td>\n",
              "      <td>5.981800</td>\n",
              "      <td>0.978014</td>\n",
              "      <td>7.458341e-155</td>\n",
              "      <td>Tumor</td>\n",
              "    </tr>\n",
              "    <tr>\n",
              "      <th>3</th>\n",
              "      <td>1</td>\n",
              "      <td>0.001477</td>\n",
              "      <td>5.677977</td>\n",
              "      <td>33.428845</td>\n",
              "      <td>151.229741</td>\n",
              "      <td>0.032024</td>\n",
              "      <td>0.001026</td>\n",
              "      <td>0.243851</td>\n",
              "      <td>7.700919</td>\n",
              "      <td>0.964189</td>\n",
              "      <td>7.458341e-155</td>\n",
              "      <td>Tumor</td>\n",
              "    </tr>\n",
              "    <tr>\n",
              "      <th>9</th>\n",
              "      <td>1</td>\n",
              "      <td>0.003002</td>\n",
              "      <td>4.365000</td>\n",
              "      <td>19.682514</td>\n",
              "      <td>72.588783</td>\n",
              "      <td>0.045685</td>\n",
              "      <td>0.002087</td>\n",
              "      <td>0.361432</td>\n",
              "      <td>4.590795</td>\n",
              "      <td>0.967830</td>\n",
              "      <td>7.458341e-155</td>\n",
              "      <td>Tumor</td>\n",
              "    </tr>\n",
              "    <tr>\n",
              "      <th>10</th>\n",
              "      <td>1</td>\n",
              "      <td>0.002436</td>\n",
              "      <td>3.872728</td>\n",
              "      <td>15.552862</td>\n",
              "      <td>66.285462</td>\n",
              "      <td>0.041140</td>\n",
              "      <td>0.001692</td>\n",
              "      <td>0.375618</td>\n",
              "      <td>4.626763</td>\n",
              "      <td>0.968750</td>\n",
              "      <td>7.458341e-155</td>\n",
              "      <td>Tumor</td>\n",
              "    </tr>\n",
              "    <tr>\n",
              "      <th>11</th>\n",
              "      <td>1</td>\n",
              "      <td>0.003769</td>\n",
              "      <td>3.623978</td>\n",
              "      <td>14.762270</td>\n",
              "      <td>165.484791</td>\n",
              "      <td>0.051321</td>\n",
              "      <td>0.002634</td>\n",
              "      <td>0.385292</td>\n",
              "      <td>5.215436</td>\n",
              "      <td>0.958601</td>\n",
              "      <td>7.458341e-155</td>\n",
              "      <td>Tumor</td>\n",
              "    </tr>\n",
              "  </tbody>\n",
              "</table>\n",
              "</div>"
            ],
            "text/plain": [
              "    Class   Entropy  Skewness  ...  Correlation     Coarseness  ClassName\n",
              "2       1  0.001467  5.061750  ...     0.978014  7.458341e-155      Tumor\n",
              "3       1  0.001477  5.677977  ...     0.964189  7.458341e-155      Tumor\n",
              "9       1  0.003002  4.365000  ...     0.967830  7.458341e-155      Tumor\n",
              "10      1  0.002436  3.872728  ...     0.968750  7.458341e-155      Tumor\n",
              "11      1  0.003769  3.623978  ...     0.958601  7.458341e-155      Tumor\n",
              "\n",
              "[5 rows x 12 columns]"
            ]
          },
          "metadata": {},
          "execution_count": 8
        }
      ]
    },
    {
      "cell_type": "code",
      "metadata": {
        "id": "inKOm8TcDZCh"
      },
      "source": [
        "from sklearn.model_selection import train_test_split\n",
        "# Droping un-nessasery data and considering important data for training in x\n",
        "X_train, X_test, y_train, y_test = train_test_split(dfMod.drop(['Class','ClassName'],axis=1), \n",
        "                                                    dfMod.Class, test_size=0.2)"
      ],
      "execution_count": null,
      "outputs": []
    },
    {
      "cell_type": "code",
      "metadata": {
        "colab": {
          "base_uri": "https://localhost:8080/",
          "height": 202
        },
        "id": "cPrKK-YvD743",
        "outputId": "a464c492-08fc-45b7-ae5c-6778b294cdc0"
      },
      "source": [
        "# Creating training dataframe from splited data\n",
        "df_train=pd.concat([X_train,y_train],axis=1)\n",
        "df_train.head()"
      ],
      "execution_count": null,
      "outputs": [
        {
          "output_type": "execute_result",
          "data": {
            "text/html": [
              "<div>\n",
              "<style scoped>\n",
              "    .dataframe tbody tr th:only-of-type {\n",
              "        vertical-align: middle;\n",
              "    }\n",
              "\n",
              "    .dataframe tbody tr th {\n",
              "        vertical-align: top;\n",
              "    }\n",
              "\n",
              "    .dataframe thead th {\n",
              "        text-align: right;\n",
              "    }\n",
              "</style>\n",
              "<table border=\"1\" class=\"dataframe\">\n",
              "  <thead>\n",
              "    <tr style=\"text-align: right;\">\n",
              "      <th></th>\n",
              "      <th>Entropy</th>\n",
              "      <th>Skewness</th>\n",
              "      <th>Kurtosis</th>\n",
              "      <th>Contrast</th>\n",
              "      <th>Energy</th>\n",
              "      <th>ASM</th>\n",
              "      <th>Homogeneity</th>\n",
              "      <th>Dissimilarity</th>\n",
              "      <th>Correlation</th>\n",
              "      <th>Coarseness</th>\n",
              "      <th>Class</th>\n",
              "    </tr>\n",
              "  </thead>\n",
              "  <tbody>\n",
              "    <tr>\n",
              "      <th>3024</th>\n",
              "      <td>0.015571</td>\n",
              "      <td>31.930094</td>\n",
              "      <td>1050.866388</td>\n",
              "      <td>85.562500</td>\n",
              "      <td>0.104232</td>\n",
              "      <td>0.010864</td>\n",
              "      <td>0.202736</td>\n",
              "      <td>7.406250</td>\n",
              "      <td>0.928907</td>\n",
              "      <td>7.458341e-155</td>\n",
              "      <td>1</td>\n",
              "    </tr>\n",
              "    <tr>\n",
              "      <th>2740</th>\n",
              "      <td>0.088606</td>\n",
              "      <td>2.356854</td>\n",
              "      <td>5.971174</td>\n",
              "      <td>136.293515</td>\n",
              "      <td>0.262722</td>\n",
              "      <td>0.069023</td>\n",
              "      <td>0.522253</td>\n",
              "      <td>4.932273</td>\n",
              "      <td>0.955865</td>\n",
              "      <td>7.458341e-155</td>\n",
              "      <td>0</td>\n",
              "    </tr>\n",
              "    <tr>\n",
              "      <th>1584</th>\n",
              "      <td>0.077490</td>\n",
              "      <td>2.460465</td>\n",
              "      <td>6.440829</td>\n",
              "      <td>75.107133</td>\n",
              "      <td>0.243243</td>\n",
              "      <td>0.059167</td>\n",
              "      <td>0.631649</td>\n",
              "      <td>2.414454</td>\n",
              "      <td>0.949136</td>\n",
              "      <td>7.458341e-155</td>\n",
              "      <td>0</td>\n",
              "    </tr>\n",
              "    <tr>\n",
              "      <th>69</th>\n",
              "      <td>0.058575</td>\n",
              "      <td>1.990064</td>\n",
              "      <td>4.263510</td>\n",
              "      <td>386.946380</td>\n",
              "      <td>0.211036</td>\n",
              "      <td>0.044536</td>\n",
              "      <td>0.500845</td>\n",
              "      <td>6.379274</td>\n",
              "      <td>0.944384</td>\n",
              "      <td>7.458341e-155</td>\n",
              "      <td>0</td>\n",
              "    </tr>\n",
              "    <tr>\n",
              "      <th>3033</th>\n",
              "      <td>0.028060</td>\n",
              "      <td>2.192485</td>\n",
              "      <td>5.166367</td>\n",
              "      <td>106.817078</td>\n",
              "      <td>0.143821</td>\n",
              "      <td>0.020685</td>\n",
              "      <td>0.455229</td>\n",
              "      <td>4.430587</td>\n",
              "      <td>0.952386</td>\n",
              "      <td>7.458341e-155</td>\n",
              "      <td>1</td>\n",
              "    </tr>\n",
              "  </tbody>\n",
              "</table>\n",
              "</div>"
            ],
            "text/plain": [
              "       Entropy   Skewness     Kurtosis  ...  Correlation     Coarseness  Class\n",
              "3024  0.015571  31.930094  1050.866388  ...     0.928907  7.458341e-155      1\n",
              "2740  0.088606   2.356854     5.971174  ...     0.955865  7.458341e-155      0\n",
              "1584  0.077490   2.460465     6.440829  ...     0.949136  7.458341e-155      0\n",
              "69    0.058575   1.990064     4.263510  ...     0.944384  7.458341e-155      0\n",
              "3033  0.028060   2.192485     5.166367  ...     0.952386  7.458341e-155      1\n",
              "\n",
              "[5 rows x 11 columns]"
            ]
          },
          "metadata": {},
          "execution_count": 10
        }
      ]
    },
    {
      "cell_type": "code",
      "metadata": {
        "colab": {
          "base_uri": "https://localhost:8080/",
          "height": 202
        },
        "id": "ElFHbIMeD_bI",
        "outputId": "b521c9bd-a76e-46a6-bd75-0e13b6c9a8c4"
      },
      "source": [
        "df_test=pd.concat([X_test,y_test],axis=1)\n",
        "df_test.head()"
      ],
      "execution_count": null,
      "outputs": [
        {
          "output_type": "execute_result",
          "data": {
            "text/html": [
              "<div>\n",
              "<style scoped>\n",
              "    .dataframe tbody tr th:only-of-type {\n",
              "        vertical-align: middle;\n",
              "    }\n",
              "\n",
              "    .dataframe tbody tr th {\n",
              "        vertical-align: top;\n",
              "    }\n",
              "\n",
              "    .dataframe thead th {\n",
              "        text-align: right;\n",
              "    }\n",
              "</style>\n",
              "<table border=\"1\" class=\"dataframe\">\n",
              "  <thead>\n",
              "    <tr style=\"text-align: right;\">\n",
              "      <th></th>\n",
              "      <th>Entropy</th>\n",
              "      <th>Skewness</th>\n",
              "      <th>Kurtosis</th>\n",
              "      <th>Contrast</th>\n",
              "      <th>Energy</th>\n",
              "      <th>ASM</th>\n",
              "      <th>Homogeneity</th>\n",
              "      <th>Dissimilarity</th>\n",
              "      <th>Correlation</th>\n",
              "      <th>Coarseness</th>\n",
              "      <th>Class</th>\n",
              "    </tr>\n",
              "  </thead>\n",
              "  <tbody>\n",
              "    <tr>\n",
              "      <th>2743</th>\n",
              "      <td>0.071535</td>\n",
              "      <td>2.928248</td>\n",
              "      <td>8.891376</td>\n",
              "      <td>147.695042</td>\n",
              "      <td>0.234516</td>\n",
              "      <td>0.054998</td>\n",
              "      <td>0.510246</td>\n",
              "      <td>5.120198</td>\n",
              "      <td>0.954483</td>\n",
              "      <td>7.458341e-155</td>\n",
              "      <td>0</td>\n",
              "    </tr>\n",
              "    <tr>\n",
              "      <th>3190</th>\n",
              "      <td>0.098117</td>\n",
              "      <td>2.359856</td>\n",
              "      <td>5.823204</td>\n",
              "      <td>155.330111</td>\n",
              "      <td>0.276962</td>\n",
              "      <td>0.076708</td>\n",
              "      <td>0.564342</td>\n",
              "      <td>4.108485</td>\n",
              "      <td>0.970138</td>\n",
              "      <td>7.458341e-155</td>\n",
              "      <td>0</td>\n",
              "    </tr>\n",
              "    <tr>\n",
              "      <th>1488</th>\n",
              "      <td>0.002365</td>\n",
              "      <td>2.680214</td>\n",
              "      <td>7.826272</td>\n",
              "      <td>90.797182</td>\n",
              "      <td>0.040563</td>\n",
              "      <td>0.001645</td>\n",
              "      <td>0.368106</td>\n",
              "      <td>4.878502</td>\n",
              "      <td>0.969645</td>\n",
              "      <td>7.458341e-155</td>\n",
              "      <td>1</td>\n",
              "    </tr>\n",
              "    <tr>\n",
              "      <th>2900</th>\n",
              "      <td>0.008783</td>\n",
              "      <td>17.514932</td>\n",
              "      <td>309.683109</td>\n",
              "      <td>34.269231</td>\n",
              "      <td>0.078264</td>\n",
              "      <td>0.006125</td>\n",
              "      <td>0.331973</td>\n",
              "      <td>3.798077</td>\n",
              "      <td>0.915690</td>\n",
              "      <td>7.458341e-155</td>\n",
              "      <td>1</td>\n",
              "    </tr>\n",
              "    <tr>\n",
              "      <th>1631</th>\n",
              "      <td>0.064407</td>\n",
              "      <td>2.094325</td>\n",
              "      <td>4.733063</td>\n",
              "      <td>152.184425</td>\n",
              "      <td>0.221539</td>\n",
              "      <td>0.049080</td>\n",
              "      <td>0.544317</td>\n",
              "      <td>3.966256</td>\n",
              "      <td>0.951718</td>\n",
              "      <td>7.458341e-155</td>\n",
              "      <td>0</td>\n",
              "    </tr>\n",
              "  </tbody>\n",
              "</table>\n",
              "</div>"
            ],
            "text/plain": [
              "       Entropy   Skewness    Kurtosis  ...  Correlation     Coarseness  Class\n",
              "2743  0.071535   2.928248    8.891376  ...     0.954483  7.458341e-155      0\n",
              "3190  0.098117   2.359856    5.823204  ...     0.970138  7.458341e-155      0\n",
              "1488  0.002365   2.680214    7.826272  ...     0.969645  7.458341e-155      1\n",
              "2900  0.008783  17.514932  309.683109  ...     0.915690  7.458341e-155      1\n",
              "1631  0.064407   2.094325    4.733063  ...     0.951718  7.458341e-155      0\n",
              "\n",
              "[5 rows x 11 columns]"
            ]
          },
          "metadata": {},
          "execution_count": 11
        }
      ]
    },
    {
      "cell_type": "code",
      "metadata": {
        "id": "hG9A-X-DeMZ1"
      },
      "source": [
        "from sklearn.naive_bayes import GaussianNB\n",
        "model = GaussianNB()"
      ],
      "execution_count": null,
      "outputs": []
    },
    {
      "cell_type": "code",
      "metadata": {
        "id": "ejlvhA0iecXj",
        "colab": {
          "base_uri": "https://localhost:8080/"
        },
        "outputId": "e0582cd9-fbb1-4aac-a812-8410e2c5b24a"
      },
      "source": [
        "model.fit(X_train,y_train)"
      ],
      "execution_count": null,
      "outputs": [
        {
          "output_type": "execute_result",
          "data": {
            "text/plain": [
              "GaussianNB()"
            ]
          },
          "metadata": {},
          "execution_count": 13
        }
      ]
    },
    {
      "cell_type": "code",
      "metadata": {
        "colab": {
          "base_uri": "https://localhost:8080/",
          "height": 415
        },
        "id": "_F5LMr8iEa5z",
        "outputId": "d4cdc151-db9c-4db7-e7e2-62136ea52386"
      },
      "source": [
        "# Predicting test data and comparing with actual data \n",
        "df_test['Predicted_Class'] = model.predict(X_test)\n",
        "df_test[['Class','Predicted_Class']]"
      ],
      "execution_count": null,
      "outputs": [
        {
          "output_type": "execute_result",
          "data": {
            "text/html": [
              "<div>\n",
              "<style scoped>\n",
              "    .dataframe tbody tr th:only-of-type {\n",
              "        vertical-align: middle;\n",
              "    }\n",
              "\n",
              "    .dataframe tbody tr th {\n",
              "        vertical-align: top;\n",
              "    }\n",
              "\n",
              "    .dataframe thead th {\n",
              "        text-align: right;\n",
              "    }\n",
              "</style>\n",
              "<table border=\"1\" class=\"dataframe\">\n",
              "  <thead>\n",
              "    <tr style=\"text-align: right;\">\n",
              "      <th></th>\n",
              "      <th>Class</th>\n",
              "      <th>Predicted_Class</th>\n",
              "    </tr>\n",
              "  </thead>\n",
              "  <tbody>\n",
              "    <tr>\n",
              "      <th>2743</th>\n",
              "      <td>0</td>\n",
              "      <td>0</td>\n",
              "    </tr>\n",
              "    <tr>\n",
              "      <th>3190</th>\n",
              "      <td>0</td>\n",
              "      <td>0</td>\n",
              "    </tr>\n",
              "    <tr>\n",
              "      <th>1488</th>\n",
              "      <td>1</td>\n",
              "      <td>1</td>\n",
              "    </tr>\n",
              "    <tr>\n",
              "      <th>2900</th>\n",
              "      <td>1</td>\n",
              "      <td>1</td>\n",
              "    </tr>\n",
              "    <tr>\n",
              "      <th>1631</th>\n",
              "      <td>0</td>\n",
              "      <td>0</td>\n",
              "    </tr>\n",
              "    <tr>\n",
              "      <th>...</th>\n",
              "      <td>...</td>\n",
              "      <td>...</td>\n",
              "    </tr>\n",
              "    <tr>\n",
              "      <th>3623</th>\n",
              "      <td>1</td>\n",
              "      <td>1</td>\n",
              "    </tr>\n",
              "    <tr>\n",
              "      <th>406</th>\n",
              "      <td>0</td>\n",
              "      <td>0</td>\n",
              "    </tr>\n",
              "    <tr>\n",
              "      <th>3120</th>\n",
              "      <td>1</td>\n",
              "      <td>1</td>\n",
              "    </tr>\n",
              "    <tr>\n",
              "      <th>2500</th>\n",
              "      <td>0</td>\n",
              "      <td>0</td>\n",
              "    </tr>\n",
              "    <tr>\n",
              "      <th>459</th>\n",
              "      <td>0</td>\n",
              "      <td>0</td>\n",
              "    </tr>\n",
              "  </tbody>\n",
              "</table>\n",
              "<p>753 rows × 2 columns</p>\n",
              "</div>"
            ],
            "text/plain": [
              "      Class  Predicted_Class\n",
              "2743      0                0\n",
              "3190      0                0\n",
              "1488      1                1\n",
              "2900      1                1\n",
              "1631      0                0\n",
              "...     ...              ...\n",
              "3623      1                1\n",
              "406       0                0\n",
              "3120      1                1\n",
              "2500      0                0\n",
              "459       0                0\n",
              "\n",
              "[753 rows x 2 columns]"
            ]
          },
          "metadata": {},
          "execution_count": 14
        }
      ]
    },
    {
      "cell_type": "code",
      "metadata": {
        "colab": {
          "base_uri": "https://localhost:8080/"
        },
        "id": "kD2BRxXaFZb0",
        "outputId": "20906b73-8252-4656-d7fe-bb06551edf15"
      },
      "source": [
        "# finding accuracy of trained model with splitted test data set using score method\n",
        "print(\"Accuracy of Trained model is: \",model.score(X_test,y_test))"
      ],
      "execution_count": null,
      "outputs": [
        {
          "output_type": "stream",
          "name": "stdout",
          "text": [
            "Accuracy of Trained model is:  0.9707835325365206\n"
          ]
        }
      ]
    },
    {
      "cell_type": "code",
      "metadata": {
        "colab": {
          "base_uri": "https://localhost:8080/"
        },
        "id": "sEt_rDCgF6Pu",
        "outputId": "f530f15c-ca38-4e57-dd19-2eb24ba6b5bd"
      },
      "source": [
        "print(\"Predicting value for [[0.3,3.5,15,150,0.5,0.06,0.6,5,0.99,8]] using trained model:\" , target[model.predict([[0.3,3.5,15,150,0.5,0.06,0.6,5,0.99,8]])[0]])"
      ],
      "execution_count": null,
      "outputs": [
        {
          "output_type": "stream",
          "name": "stdout",
          "text": [
            "Predicting value for [[0.3,3.5,15,150,0.5,0.06,0.6,5,0.99,8]] using trained model: Non-Tumor\n"
          ]
        },
        {
          "output_type": "stream",
          "name": "stderr",
          "text": [
            "/usr/local/lib/python3.7/dist-packages/sklearn/base.py:446: UserWarning: X does not have valid feature names, but GaussianNB was fitted with feature names\n",
            "  \"X does not have valid feature names, but\"\n"
          ]
        }
      ]
    },
    {
      "cell_type": "code",
      "metadata": {
        "colab": {
          "base_uri": "https://localhost:8080/"
        },
        "id": "8u_COd-BFNAA",
        "outputId": "b798e24d-4684-44a0-e34f-8d61592ae83e"
      },
      "source": [
        "# Creating confusion matrix\n",
        "from sklearn.metrics import confusion_matrix\n",
        "y_pred = model.predict(X_test)\n",
        "cm = confusion_matrix(y_test, y_pred)\n",
        "cm"
      ],
      "execution_count": null,
      "outputs": [
        {
          "output_type": "execute_result",
          "data": {
            "text/plain": [
              "array([[407,   4],\n",
              "       [ 18, 324]])"
            ]
          },
          "metadata": {},
          "execution_count": 17
        }
      ]
    },
    {
      "cell_type": "code",
      "metadata": {
        "colab": {
          "base_uri": "https://localhost:8080/",
          "height": 405
        },
        "id": "vSdPkwSNFRLX",
        "outputId": "be173cf4-cd6b-4f37-d67f-c596d6a572df"
      },
      "source": [
        "%matplotlib inline\n",
        "import matplotlib.pyplot as plt\n",
        "import seaborn as sns\n",
        "plt.figure(figsize=(8,6))\n",
        "sns.heatmap(cm, annot=True)\n",
        "plt.xlabel('Predicted')\n",
        "plt.ylabel('Truth')"
      ],
      "execution_count": null,
      "outputs": [
        {
          "output_type": "execute_result",
          "data": {
            "text/plain": [
              "Text(51.0, 0.5, 'Truth')"
            ]
          },
          "metadata": {},
          "execution_count": 18
        },
        {
          "output_type": "display_data",
          "data": {
            "image/png": "[encoded data removed]",
            "text/plain": [
              "<Figure size 576x432 with 2 Axes>"
            ]
          },
          "metadata": {
            "needs_background": "light"
          }
        }
      ]
    },
    {
      "cell_type": "code",
      "metadata": {
        "id": "A6GXZdq6Fx98",
        "colab": {
          "base_uri": "https://localhost:8080/"
        },
        "outputId": "71938204-3c9d-4b56-812e-a855231e6d7e"
      },
      "source": [
        "from sklearn.metrics import classification_report\n",
        "print(classification_report(y_test, y_pred))"
      ],
      "execution_count": null,
      "outputs": [
        {
          "output_type": "stream",
          "name": "stdout",
          "text": [
            "              precision    recall  f1-score   support\n",
            "\n",
            "           0       0.96      0.99      0.97       411\n",
            "           1       0.99      0.95      0.97       342\n",
            "\n",
            "    accuracy                           0.97       753\n",
            "   macro avg       0.97      0.97      0.97       753\n",
            "weighted avg       0.97      0.97      0.97       753\n",
            "\n"
          ]
        }
      ]
    },
    {
      "cell_type": "code",
      "metadata": {
        "colab": {
          "base_uri": "https://localhost:8080/"
        },
        "id": "UEQG-OOnEwCw",
        "outputId": "e2d28763-d703-493a-8e27-28493a2be0af"
      },
      "source": [
        "from sklearn.metrics import classification_report\n",
        "\n",
        "print(classification_report(y_train, model.predict(X_train)))"
      ],
      "execution_count": null,
      "outputs": [
        {
          "output_type": "stream",
          "name": "stdout",
          "text": [
            "              precision    recall  f1-score   support\n",
            "\n",
            "           0       0.95      0.99      0.97      1668\n",
            "           1       0.99      0.94      0.96      1341\n",
            "\n",
            "    accuracy                           0.97      3009\n",
            "   macro avg       0.97      0.96      0.97      3009\n",
            "weighted avg       0.97      0.97      0.97      3009\n",
            "\n"
          ]
        }
      ]
    }
  ]
}