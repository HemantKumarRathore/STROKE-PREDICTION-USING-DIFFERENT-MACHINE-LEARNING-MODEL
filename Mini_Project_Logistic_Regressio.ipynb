{
  "nbformat": 4,
  "nbformat_minor": 0,
  "metadata": {
    "colab": {
      "name": "Mini-Project_Logistic_Regressio.ipynb",
      "provenance": [],
      "collapsed_sections": []
    },
    "kernelspec": {
      "name": "python3",
      "display_name": "Python 3"
    },
    "language_info": {
      "name": "python"
    }
  },
  "cells": [
    {
      "cell_type": "code",
      "metadata": {
        "id": "O282I2eu_05i"
      },
      "source": [
        "# loading required library\n",
        "import pandas as pd\n",
        "from matplotlib import pyplot as plt\n",
        "%matplotlib inline\n",
        "from sklearn.model_selection import train_test_split\n",
        "from sklearn.linear_model import LogisticRegression"
      ],
      "execution_count": null,
      "outputs": []
    },
    {
      "cell_type": "code",
      "metadata": {
        "colab": {
          "base_uri": "https://localhost:8080/"
        },
        "id": "Sr8fFysWATW0",
        "outputId": "317743cd-d6ea-4165-df7c-f5e6689c0916"
      },
      "source": [
        "df = pd.read_csv(\"BrainTumor.csv\")\n",
        "df.columns"
      ],
      "execution_count": null,
      "outputs": [
        {
          "output_type": "execute_result",
          "data": {
            "text/plain": [
              "Index(['Image', 'Class', 'Mean', 'Variance', 'Standard Deviation', 'Entropy',\n",
              "       'Skewness', 'Kurtosis', 'Contrast', 'Energy', 'ASM', 'Homogeneity',\n",
              "       'Dissimilarity', 'Correlation', 'Coarseness'],\n",
              "      dtype='object')"
            ]
          },
          "metadata": {},
          "execution_count": 25
        }
      ]
    },
    {
      "cell_type": "code",
      "metadata": {
        "id": "feTuuu_gC-xr"
      },
      "source": [
        "# droping some column from data set \n",
        "dfMod=df.drop(['Image','Mean','Variance','Standard Deviation'],axis=1)"
      ],
      "execution_count": null,
      "outputs": []
    },
    {
      "cell_type": "code",
      "metadata": {
        "colab": {
          "base_uri": "https://localhost:8080/"
        },
        "id": "85rizkjO4p69",
        "outputId": "366c1b54-706e-41c0-fc3d-b6becd63be7e"
      },
      "source": [
        "df.info()"
      ],
      "execution_count": null,
      "outputs": [
        {
          "output_type": "stream",
          "name": "stdout",
          "text": [
            "<class 'pandas.core.frame.DataFrame'>\n",
            "RangeIndex: 3762 entries, 0 to 3761\n",
            "Data columns (total 15 columns):\n",
            " #   Column              Non-Null Count  Dtype  \n",
            "---  ------              --------------  -----  \n",
            " 0   Image               3762 non-null   object \n",
            " 1   Class               3762 non-null   int64  \n",
            " 2   Mean                3762 non-null   float64\n",
            " 3   Variance            3762 non-null   float64\n",
            " 4   Standard Deviation  3762 non-null   float64\n",
            " 5   Entropy             3762 non-null   float64\n",
            " 6   Skewness            3762 non-null   float64\n",
            " 7   Kurtosis            3762 non-null   float64\n",
            " 8   Contrast            3762 non-null   float64\n",
            " 9   Energy              3762 non-null   float64\n",
            " 10  ASM                 3762 non-null   float64\n",
            " 11  Homogeneity         3762 non-null   float64\n",
            " 12  Dissimilarity       3762 non-null   float64\n",
            " 13  Correlation         3762 non-null   float64\n",
            " 14  Coarseness          3762 non-null   float64\n",
            "dtypes: float64(13), int64(1), object(1)\n",
            "memory usage: 441.0+ KB\n"
          ]
        }
      ]
    },
    {
      "cell_type": "code",
      "metadata": {
        "colab": {
          "base_uri": "https://localhost:8080/"
        },
        "id": "y0WVlwSgCDS_",
        "outputId": "bd1a3909-9631-4cc9-b43e-265879d4fc1a"
      },
      "source": [
        "target=['Non-Tumor','Tumor']\n",
        "print(\"Tagret to classify after training: \",target)"
      ],
      "execution_count": null,
      "outputs": [
        {
          "output_type": "stream",
          "name": "stdout",
          "text": [
            "Tagret to classify after training:  ['Non-Tumor', 'Tumor']\n"
          ]
        }
      ]
    },
    {
      "cell_type": "code",
      "metadata": {
        "id": "ka9BezDkCEEM"
      },
      "source": [
        "dfMod['ClassName'] =dfMod.Class.apply(lambda x: target[x])"
      ],
      "execution_count": null,
      "outputs": []
    },
    {
      "cell_type": "code",
      "metadata": {
        "colab": {
          "base_uri": "https://localhost:8080/",
          "height": 252
        },
        "id": "fveV-yI5CH26",
        "outputId": "284a0838-871a-4448-a032-cc814e964784"
      },
      "source": [
        "print(\"\\n printing first five data from dataframe with taget equal to 0:\\n\")\n",
        "dfMod[dfMod.Class==0].head()\n"
      ],
      "execution_count": null,
      "outputs": [
        {
          "output_type": "stream",
          "name": "stdout",
          "text": [
            "\n",
            " printing first five data from dataframe with taget equal to 0:\n",
            "\n"
          ]
        },
        {
          "output_type": "execute_result",
          "data": {
            "text/html": [
              "<div>\n",
              "<style scoped>\n",
              "    .dataframe tbody tr th:only-of-type {\n",
              "        vertical-align: middle;\n",
              "    }\n",
              "\n",
              "    .dataframe tbody tr th {\n",
              "        vertical-align: top;\n",
              "    }\n",
              "\n",
              "    .dataframe thead th {\n",
              "        text-align: right;\n",
              "    }\n",
              "</style>\n",
              "<table border=\"1\" class=\"dataframe\">\n",
              "  <thead>\n",
              "    <tr style=\"text-align: right;\">\n",
              "      <th></th>\n",
              "      <th>Class</th>\n",
              "      <th>Entropy</th>\n",
              "      <th>Skewness</th>\n",
              "      <th>Kurtosis</th>\n",
              "      <th>Contrast</th>\n",
              "      <th>Energy</th>\n",
              "      <th>ASM</th>\n",
              "      <th>Homogeneity</th>\n",
              "      <th>Dissimilarity</th>\n",
              "      <th>Correlation</th>\n",
              "      <th>Coarseness</th>\n",
              "      <th>ClassName</th>\n",
              "    </tr>\n",
              "  </thead>\n",
              "  <tbody>\n",
              "    <tr>\n",
              "      <th>0</th>\n",
              "      <td>0</td>\n",
              "      <td>0.109059</td>\n",
              "      <td>4.276477</td>\n",
              "      <td>18.900575</td>\n",
              "      <td>98.613971</td>\n",
              "      <td>0.293314</td>\n",
              "      <td>0.086033</td>\n",
              "      <td>0.530941</td>\n",
              "      <td>4.473346</td>\n",
              "      <td>0.981939</td>\n",
              "      <td>7.458341e-155</td>\n",
              "      <td>Non-Tumor</td>\n",
              "    </tr>\n",
              "    <tr>\n",
              "      <th>1</th>\n",
              "      <td>0</td>\n",
              "      <td>0.266538</td>\n",
              "      <td>3.718116</td>\n",
              "      <td>14.464618</td>\n",
              "      <td>63.858816</td>\n",
              "      <td>0.475051</td>\n",
              "      <td>0.225674</td>\n",
              "      <td>0.651352</td>\n",
              "      <td>3.220072</td>\n",
              "      <td>0.988834</td>\n",
              "      <td>7.458341e-155</td>\n",
              "      <td>Non-Tumor</td>\n",
              "    </tr>\n",
              "    <tr>\n",
              "      <th>4</th>\n",
              "      <td>0</td>\n",
              "      <td>0.146761</td>\n",
              "      <td>4.283221</td>\n",
              "      <td>19.079108</td>\n",
              "      <td>174.988756</td>\n",
              "      <td>0.343849</td>\n",
              "      <td>0.118232</td>\n",
              "      <td>0.501140</td>\n",
              "      <td>6.834689</td>\n",
              "      <td>0.972789</td>\n",
              "      <td>7.458341e-155</td>\n",
              "      <td>Non-Tumor</td>\n",
              "    </tr>\n",
              "    <tr>\n",
              "      <th>5</th>\n",
              "      <td>0</td>\n",
              "      <td>0.214086</td>\n",
              "      <td>3.729886</td>\n",
              "      <td>14.471736</td>\n",
              "      <td>105.077882</td>\n",
              "      <td>0.421587</td>\n",
              "      <td>0.177736</td>\n",
              "      <td>0.598169</td>\n",
              "      <td>4.193146</td>\n",
              "      <td>0.976485</td>\n",
              "      <td>7.458341e-155</td>\n",
              "      <td>Non-Tumor</td>\n",
              "    </tr>\n",
              "    <tr>\n",
              "      <th>6</th>\n",
              "      <td>0</td>\n",
              "      <td>0.128833</td>\n",
              "      <td>2.930095</td>\n",
              "      <td>8.969348</td>\n",
              "      <td>115.203118</td>\n",
              "      <td>0.320675</td>\n",
              "      <td>0.102832</td>\n",
              "      <td>0.532292</td>\n",
              "      <td>4.880320</td>\n",
              "      <td>0.974745</td>\n",
              "      <td>7.458341e-155</td>\n",
              "      <td>Non-Tumor</td>\n",
              "    </tr>\n",
              "  </tbody>\n",
              "</table>\n",
              "</div>"
            ],
            "text/plain": [
              "   Class   Entropy  Skewness  ...  Correlation     Coarseness  ClassName\n",
              "0      0  0.109059  4.276477  ...     0.981939  7.458341e-155  Non-Tumor\n",
              "1      0  0.266538  3.718116  ...     0.988834  7.458341e-155  Non-Tumor\n",
              "4      0  0.146761  4.283221  ...     0.972789  7.458341e-155  Non-Tumor\n",
              "5      0  0.214086  3.729886  ...     0.976485  7.458341e-155  Non-Tumor\n",
              "6      0  0.128833  2.930095  ...     0.974745  7.458341e-155  Non-Tumor\n",
              "\n",
              "[5 rows x 12 columns]"
            ]
          },
          "metadata": {},
          "execution_count": 30
        }
      ]
    },
    {
      "cell_type": "code",
      "metadata": {
        "colab": {
          "base_uri": "https://localhost:8080/",
          "height": 252
        },
        "id": "sYk8tYxkCKAh",
        "outputId": "1f541363-fab7-4932-b44d-a08d1f3b51da"
      },
      "source": [
        "print(\"\\n printing first five data from dataframe with taget equal to 1:\\n\")\n",
        "dfMod[dfMod.Class==1].head()"
      ],
      "execution_count": null,
      "outputs": [
        {
          "output_type": "stream",
          "name": "stdout",
          "text": [
            "\n",
            " printing first five data from dataframe with taget equal to 1:\n",
            "\n"
          ]
        },
        {
          "output_type": "execute_result",
          "data": {
            "text/html": [
              "<div>\n",
              "<style scoped>\n",
              "    .dataframe tbody tr th:only-of-type {\n",
              "        vertical-align: middle;\n",
              "    }\n",
              "\n",
              "    .dataframe tbody tr th {\n",
              "        vertical-align: top;\n",
              "    }\n",
              "\n",
              "    .dataframe thead th {\n",
              "        text-align: right;\n",
              "    }\n",
              "</style>\n",
              "<table border=\"1\" class=\"dataframe\">\n",
              "  <thead>\n",
              "    <tr style=\"text-align: right;\">\n",
              "      <th></th>\n",
              "      <th>Class</th>\n",
              "      <th>Entropy</th>\n",
              "      <th>Skewness</th>\n",
              "      <th>Kurtosis</th>\n",
              "      <th>Contrast</th>\n",
              "      <th>Energy</th>\n",
              "      <th>ASM</th>\n",
              "      <th>Homogeneity</th>\n",
              "      <th>Dissimilarity</th>\n",
              "      <th>Correlation</th>\n",
              "      <th>Coarseness</th>\n",
              "      <th>ClassName</th>\n",
              "    </tr>\n",
              "  </thead>\n",
              "  <tbody>\n",
              "    <tr>\n",
              "      <th>2</th>\n",
              "      <td>1</td>\n",
              "      <td>0.001467</td>\n",
              "      <td>5.061750</td>\n",
              "      <td>26.479563</td>\n",
              "      <td>81.867206</td>\n",
              "      <td>0.031917</td>\n",
              "      <td>0.001019</td>\n",
              "      <td>0.268275</td>\n",
              "      <td>5.981800</td>\n",
              "      <td>0.978014</td>\n",
              "      <td>7.458341e-155</td>\n",
              "      <td>Tumor</td>\n",
              "    </tr>\n",
              "    <tr>\n",
              "      <th>3</th>\n",
              "      <td>1</td>\n",
              "      <td>0.001477</td>\n",
              "      <td>5.677977</td>\n",
              "      <td>33.428845</td>\n",
              "      <td>151.229741</td>\n",
              "      <td>0.032024</td>\n",
              "      <td>0.001026</td>\n",
              "      <td>0.243851</td>\n",
              "      <td>7.700919</td>\n",
              "      <td>0.964189</td>\n",
              "      <td>7.458341e-155</td>\n",
              "      <td>Tumor</td>\n",
              "    </tr>\n",
              "    <tr>\n",
              "      <th>9</th>\n",
              "      <td>1</td>\n",
              "      <td>0.003002</td>\n",
              "      <td>4.365000</td>\n",
              "      <td>19.682514</td>\n",
              "      <td>72.588783</td>\n",
              "      <td>0.045685</td>\n",
              "      <td>0.002087</td>\n",
              "      <td>0.361432</td>\n",
              "      <td>4.590795</td>\n",
              "      <td>0.967830</td>\n",
              "      <td>7.458341e-155</td>\n",
              "      <td>Tumor</td>\n",
              "    </tr>\n",
              "    <tr>\n",
              "      <th>10</th>\n",
              "      <td>1</td>\n",
              "      <td>0.002436</td>\n",
              "      <td>3.872728</td>\n",
              "      <td>15.552862</td>\n",
              "      <td>66.285462</td>\n",
              "      <td>0.041140</td>\n",
              "      <td>0.001692</td>\n",
              "      <td>0.375618</td>\n",
              "      <td>4.626763</td>\n",
              "      <td>0.968750</td>\n",
              "      <td>7.458341e-155</td>\n",
              "      <td>Tumor</td>\n",
              "    </tr>\n",
              "    <tr>\n",
              "      <th>11</th>\n",
              "      <td>1</td>\n",
              "      <td>0.003769</td>\n",
              "      <td>3.623978</td>\n",
              "      <td>14.762270</td>\n",
              "      <td>165.484791</td>\n",
              "      <td>0.051321</td>\n",
              "      <td>0.002634</td>\n",
              "      <td>0.385292</td>\n",
              "      <td>5.215436</td>\n",
              "      <td>0.958601</td>\n",
              "      <td>7.458341e-155</td>\n",
              "      <td>Tumor</td>\n",
              "    </tr>\n",
              "  </tbody>\n",
              "</table>\n",
              "</div>"
            ],
            "text/plain": [
              "    Class   Entropy  Skewness  ...  Correlation     Coarseness  ClassName\n",
              "2       1  0.001467  5.061750  ...     0.978014  7.458341e-155      Tumor\n",
              "3       1  0.001477  5.677977  ...     0.964189  7.458341e-155      Tumor\n",
              "9       1  0.003002  4.365000  ...     0.967830  7.458341e-155      Tumor\n",
              "10      1  0.002436  3.872728  ...     0.968750  7.458341e-155      Tumor\n",
              "11      1  0.003769  3.623978  ...     0.958601  7.458341e-155      Tumor\n",
              "\n",
              "[5 rows x 12 columns]"
            ]
          },
          "metadata": {},
          "execution_count": 31
        }
      ]
    },
    {
      "cell_type": "code",
      "metadata": {
        "id": "inKOm8TcDZCh"
      },
      "source": [
        "from sklearn.model_selection import train_test_split\n",
        "# Droping un-nessasery data and considering important data for training in x\n",
        "X_train, X_test, y_train, y_test = train_test_split(dfMod.drop(['Class','ClassName'],axis=1), \n",
        "                                                    dfMod.Class, test_size=0.2)"
      ],
      "execution_count": null,
      "outputs": []
    },
    {
      "cell_type": "code",
      "metadata": {
        "colab": {
          "base_uri": "https://localhost:8080/",
          "height": 202
        },
        "id": "cPrKK-YvD743",
        "outputId": "d89cbea2-df13-4c3e-da2f-b3642167921e"
      },
      "source": [
        "# Creating training dataframe from splited data\n",
        "df_train=pd.concat([X_train,y_train],axis=1)\n",
        "df_train.head()"
      ],
      "execution_count": null,
      "outputs": [
        {
          "output_type": "execute_result",
          "data": {
            "text/html": [
              "<div>\n",
              "<style scoped>\n",
              "    .dataframe tbody tr th:only-of-type {\n",
              "        vertical-align: middle;\n",
              "    }\n",
              "\n",
              "    .dataframe tbody tr th {\n",
              "        vertical-align: top;\n",
              "    }\n",
              "\n",
              "    .dataframe thead th {\n",
              "        text-align: right;\n",
              "    }\n",
              "</style>\n",
              "<table border=\"1\" class=\"dataframe\">\n",
              "  <thead>\n",
              "    <tr style=\"text-align: right;\">\n",
              "      <th></th>\n",
              "      <th>Entropy</th>\n",
              "      <th>Skewness</th>\n",
              "      <th>Kurtosis</th>\n",
              "      <th>Contrast</th>\n",
              "      <th>Energy</th>\n",
              "      <th>ASM</th>\n",
              "      <th>Homogeneity</th>\n",
              "      <th>Dissimilarity</th>\n",
              "      <th>Correlation</th>\n",
              "      <th>Coarseness</th>\n",
              "      <th>Class</th>\n",
              "    </tr>\n",
              "  </thead>\n",
              "  <tbody>\n",
              "    <tr>\n",
              "      <th>3451</th>\n",
              "      <td>0.087369</td>\n",
              "      <td>2.434145</td>\n",
              "      <td>6.247947</td>\n",
              "      <td>35.741306</td>\n",
              "      <td>0.260118</td>\n",
              "      <td>0.067661</td>\n",
              "      <td>0.577855</td>\n",
              "      <td>2.528414</td>\n",
              "      <td>0.968778</td>\n",
              "      <td>7.458341e-155</td>\n",
              "      <td>0</td>\n",
              "    </tr>\n",
              "    <tr>\n",
              "      <th>668</th>\n",
              "      <td>0.118767</td>\n",
              "      <td>2.311993</td>\n",
              "      <td>5.705507</td>\n",
              "      <td>37.470235</td>\n",
              "      <td>0.306151</td>\n",
              "      <td>0.093728</td>\n",
              "      <td>0.644471</td>\n",
              "      <td>2.142201</td>\n",
              "      <td>0.970129</td>\n",
              "      <td>7.458341e-155</td>\n",
              "      <td>0</td>\n",
              "    </tr>\n",
              "    <tr>\n",
              "      <th>858</th>\n",
              "      <td>0.228615</td>\n",
              "      <td>3.427235</td>\n",
              "      <td>12.336712</td>\n",
              "      <td>75.438631</td>\n",
              "      <td>0.436791</td>\n",
              "      <td>0.190786</td>\n",
              "      <td>0.636244</td>\n",
              "      <td>3.027192</td>\n",
              "      <td>0.970684</td>\n",
              "      <td>7.458341e-155</td>\n",
              "      <td>0</td>\n",
              "    </tr>\n",
              "    <tr>\n",
              "      <th>1183</th>\n",
              "      <td>0.149967</td>\n",
              "      <td>3.150357</td>\n",
              "      <td>10.415505</td>\n",
              "      <td>122.097744</td>\n",
              "      <td>0.347820</td>\n",
              "      <td>0.120979</td>\n",
              "      <td>0.583496</td>\n",
              "      <td>4.227600</td>\n",
              "      <td>0.974683</td>\n",
              "      <td>7.458341e-155</td>\n",
              "      <td>0</td>\n",
              "    </tr>\n",
              "    <tr>\n",
              "      <th>1320</th>\n",
              "      <td>0.087760</td>\n",
              "      <td>2.956084</td>\n",
              "      <td>9.040885</td>\n",
              "      <td>119.694892</td>\n",
              "      <td>0.261141</td>\n",
              "      <td>0.068194</td>\n",
              "      <td>0.509852</td>\n",
              "      <td>4.811660</td>\n",
              "      <td>0.943897</td>\n",
              "      <td>7.458341e-155</td>\n",
              "      <td>0</td>\n",
              "    </tr>\n",
              "  </tbody>\n",
              "</table>\n",
              "</div>"
            ],
            "text/plain": [
              "       Entropy  Skewness   Kurtosis  ...  Correlation     Coarseness  Class\n",
              "3451  0.087369  2.434145   6.247947  ...     0.968778  7.458341e-155      0\n",
              "668   0.118767  2.311993   5.705507  ...     0.970129  7.458341e-155      0\n",
              "858   0.228615  3.427235  12.336712  ...     0.970684  7.458341e-155      0\n",
              "1183  0.149967  3.150357  10.415505  ...     0.974683  7.458341e-155      0\n",
              "1320  0.087760  2.956084   9.040885  ...     0.943897  7.458341e-155      0\n",
              "\n",
              "[5 rows x 11 columns]"
            ]
          },
          "metadata": {},
          "execution_count": 33
        }
      ]
    },
    {
      "cell_type": "code",
      "metadata": {
        "colab": {
          "base_uri": "https://localhost:8080/",
          "height": 202
        },
        "id": "ElFHbIMeD_bI",
        "outputId": "793d6837-9c69-4c3d-8618-7ff2d7c60a55"
      },
      "source": [
        "df_test=pd.concat([X_test,y_test],axis=1)\n",
        "df_test.head()"
      ],
      "execution_count": null,
      "outputs": [
        {
          "output_type": "execute_result",
          "data": {
            "text/html": [
              "<div>\n",
              "<style scoped>\n",
              "    .dataframe tbody tr th:only-of-type {\n",
              "        vertical-align: middle;\n",
              "    }\n",
              "\n",
              "    .dataframe tbody tr th {\n",
              "        vertical-align: top;\n",
              "    }\n",
              "\n",
              "    .dataframe thead th {\n",
              "        text-align: right;\n",
              "    }\n",
              "</style>\n",
              "<table border=\"1\" class=\"dataframe\">\n",
              "  <thead>\n",
              "    <tr style=\"text-align: right;\">\n",
              "      <th></th>\n",
              "      <th>Entropy</th>\n",
              "      <th>Skewness</th>\n",
              "      <th>Kurtosis</th>\n",
              "      <th>Contrast</th>\n",
              "      <th>Energy</th>\n",
              "      <th>ASM</th>\n",
              "      <th>Homogeneity</th>\n",
              "      <th>Dissimilarity</th>\n",
              "      <th>Correlation</th>\n",
              "      <th>Coarseness</th>\n",
              "      <th>Class</th>\n",
              "    </tr>\n",
              "  </thead>\n",
              "  <tbody>\n",
              "    <tr>\n",
              "      <th>2106</th>\n",
              "      <td>0.023301</td>\n",
              "      <td>3.190422</td>\n",
              "      <td>11.090258</td>\n",
              "      <td>26.877230</td>\n",
              "      <td>0.130422</td>\n",
              "      <td>0.017010</td>\n",
              "      <td>0.523915</td>\n",
              "      <td>2.418267</td>\n",
              "      <td>0.973638</td>\n",
              "      <td>7.458341e-155</td>\n",
              "      <td>1</td>\n",
              "    </tr>\n",
              "    <tr>\n",
              "      <th>1047</th>\n",
              "      <td>0.012343</td>\n",
              "      <td>3.022831</td>\n",
              "      <td>10.228869</td>\n",
              "      <td>109.042698</td>\n",
              "      <td>0.093956</td>\n",
              "      <td>0.008828</td>\n",
              "      <td>0.474410</td>\n",
              "      <td>3.548082</td>\n",
              "      <td>0.961698</td>\n",
              "      <td>7.458341e-155</td>\n",
              "      <td>1</td>\n",
              "    </tr>\n",
              "    <tr>\n",
              "      <th>1054</th>\n",
              "      <td>0.002490</td>\n",
              "      <td>9.176305</td>\n",
              "      <td>86.963692</td>\n",
              "      <td>133.712963</td>\n",
              "      <td>0.041594</td>\n",
              "      <td>0.001730</td>\n",
              "      <td>0.223086</td>\n",
              "      <td>7.261574</td>\n",
              "      <td>0.922782</td>\n",
              "      <td>7.458341e-155</td>\n",
              "      <td>1</td>\n",
              "    </tr>\n",
              "    <tr>\n",
              "      <th>3076</th>\n",
              "      <td>0.002886</td>\n",
              "      <td>5.209032</td>\n",
              "      <td>28.188535</td>\n",
              "      <td>49.935484</td>\n",
              "      <td>0.044787</td>\n",
              "      <td>0.002006</td>\n",
              "      <td>0.349123</td>\n",
              "      <td>4.144516</td>\n",
              "      <td>0.980144</td>\n",
              "      <td>7.458341e-155</td>\n",
              "      <td>1</td>\n",
              "    </tr>\n",
              "    <tr>\n",
              "      <th>42</th>\n",
              "      <td>0.226580</td>\n",
              "      <td>3.368116</td>\n",
              "      <td>11.680052</td>\n",
              "      <td>92.010839</td>\n",
              "      <td>0.434381</td>\n",
              "      <td>0.188687</td>\n",
              "      <td>0.677492</td>\n",
              "      <td>2.781818</td>\n",
              "      <td>0.973939</td>\n",
              "      <td>7.458341e-155</td>\n",
              "      <td>0</td>\n",
              "    </tr>\n",
              "  </tbody>\n",
              "</table>\n",
              "</div>"
            ],
            "text/plain": [
              "       Entropy  Skewness   Kurtosis  ...  Correlation     Coarseness  Class\n",
              "2106  0.023301  3.190422  11.090258  ...     0.973638  7.458341e-155      1\n",
              "1047  0.012343  3.022831  10.228869  ...     0.961698  7.458341e-155      1\n",
              "1054  0.002490  9.176305  86.963692  ...     0.922782  7.458341e-155      1\n",
              "3076  0.002886  5.209032  28.188535  ...     0.980144  7.458341e-155      1\n",
              "42    0.226580  3.368116  11.680052  ...     0.973939  7.458341e-155      0\n",
              "\n",
              "[5 rows x 11 columns]"
            ]
          },
          "metadata": {},
          "execution_count": 34
        }
      ]
    },
    {
      "cell_type": "code",
      "metadata": {
        "colab": {
          "base_uri": "https://localhost:8080/",
          "height": 415
        },
        "id": "tohASopgEMCX",
        "outputId": "43520822-71de-4b26-9715-5511173f458e"
      },
      "source": [
        "model = LogisticRegression(max_iter=4000)\n",
        "model.fit(X_train,y_train)\n",
        "# Predicting test data and comparing with actual data \n",
        "df_test['Predicted_Class'] = model.predict(X_test)\n",
        "df_test[['Class','Predicted_Class']]"
      ],
      "execution_count": null,
      "outputs": [
        {
          "output_type": "execute_result",
          "data": {
            "text/html": [
              "<div>\n",
              "<style scoped>\n",
              "    .dataframe tbody tr th:only-of-type {\n",
              "        vertical-align: middle;\n",
              "    }\n",
              "\n",
              "    .dataframe tbody tr th {\n",
              "        vertical-align: top;\n",
              "    }\n",
              "\n",
              "    .dataframe thead th {\n",
              "        text-align: right;\n",
              "    }\n",
              "</style>\n",
              "<table border=\"1\" class=\"dataframe\">\n",
              "  <thead>\n",
              "    <tr style=\"text-align: right;\">\n",
              "      <th></th>\n",
              "      <th>Class</th>\n",
              "      <th>Predicted_Class</th>\n",
              "    </tr>\n",
              "  </thead>\n",
              "  <tbody>\n",
              "    <tr>\n",
              "      <th>2106</th>\n",
              "      <td>1</td>\n",
              "      <td>1</td>\n",
              "    </tr>\n",
              "    <tr>\n",
              "      <th>1047</th>\n",
              "      <td>1</td>\n",
              "      <td>1</td>\n",
              "    </tr>\n",
              "    <tr>\n",
              "      <th>1054</th>\n",
              "      <td>1</td>\n",
              "      <td>1</td>\n",
              "    </tr>\n",
              "    <tr>\n",
              "      <th>3076</th>\n",
              "      <td>1</td>\n",
              "      <td>1</td>\n",
              "    </tr>\n",
              "    <tr>\n",
              "      <th>42</th>\n",
              "      <td>0</td>\n",
              "      <td>0</td>\n",
              "    </tr>\n",
              "    <tr>\n",
              "      <th>...</th>\n",
              "      <td>...</td>\n",
              "      <td>...</td>\n",
              "    </tr>\n",
              "    <tr>\n",
              "      <th>1971</th>\n",
              "      <td>0</td>\n",
              "      <td>0</td>\n",
              "    </tr>\n",
              "    <tr>\n",
              "      <th>3167</th>\n",
              "      <td>1</td>\n",
              "      <td>0</td>\n",
              "    </tr>\n",
              "    <tr>\n",
              "      <th>3165</th>\n",
              "      <td>1</td>\n",
              "      <td>1</td>\n",
              "    </tr>\n",
              "    <tr>\n",
              "      <th>1453</th>\n",
              "      <td>0</td>\n",
              "      <td>0</td>\n",
              "    </tr>\n",
              "    <tr>\n",
              "      <th>2060</th>\n",
              "      <td>0</td>\n",
              "      <td>0</td>\n",
              "    </tr>\n",
              "  </tbody>\n",
              "</table>\n",
              "<p>753 rows × 2 columns</p>\n",
              "</div>"
            ],
            "text/plain": [
              "      Class  Predicted_Class\n",
              "2106      1                1\n",
              "1047      1                1\n",
              "1054      1                1\n",
              "3076      1                1\n",
              "42        0                0\n",
              "...     ...              ...\n",
              "1971      0                0\n",
              "3167      1                0\n",
              "3165      1                1\n",
              "1453      0                0\n",
              "2060      0                0\n",
              "\n",
              "[753 rows x 2 columns]"
            ]
          },
          "metadata": {},
          "execution_count": 35
        }
      ]
    },
    {
      "cell_type": "code",
      "metadata": {
        "colab": {
          "base_uri": "https://localhost:8080/"
        },
        "id": "_CBT736PFMo5",
        "outputId": "8910e702-ee2e-4067-9801-8f7cc4ef60f2"
      },
      "source": [
        "# As we know for logistic regression, if probebility is more then 0.5 then  \n",
        "# then output would be 1 and if probability is less then 0.5 then output would \n",
        "# be zero. Calculating probabilty of test data based on learned model.\n",
        "model.predict_proba(X_test)"
      ],
      "execution_count": null,
      "outputs": [
        {
          "output_type": "execute_result",
          "data": {
            "text/plain": [
              "array([[4.87286408e-01, 5.12713592e-01],\n",
              "       [2.51406472e-01, 7.48593528e-01],\n",
              "       [2.69693529e-04, 9.99730306e-01],\n",
              "       ...,\n",
              "       [1.72650743e-01, 8.27349257e-01],\n",
              "       [9.51875200e-01, 4.81247996e-02],\n",
              "       [9.98118145e-01, 1.88185523e-03]])"
            ]
          },
          "metadata": {},
          "execution_count": 36
        }
      ]
    },
    {
      "cell_type": "code",
      "metadata": {
        "colab": {
          "base_uri": "https://localhost:8080/"
        },
        "id": "kD2BRxXaFZb0",
        "outputId": "122b6ef4-41ed-43bd-f395-9f6bad19385e"
      },
      "source": [
        "# finding accuracy of trained model with splitted test data set using score method\n",
        "print(\"Accuracy of Trained model is: \",model.score(X_test,y_test))"
      ],
      "execution_count": null,
      "outputs": [
        {
          "output_type": "stream",
          "name": "stdout",
          "text": [
            "Accuracy of Trained model is:  0.9774236387782205\n"
          ]
        }
      ]
    },
    {
      "cell_type": "code",
      "metadata": {
        "colab": {
          "base_uri": "https://localhost:8080/"
        },
        "id": "sEt_rDCgF6Pu",
        "outputId": "4ffe1ba6-547b-43c0-9ff0-8f63a5d64289"
      },
      "source": [
        "print(\"Predicting value for [[0.3,3.5,15,150,0.5,0.06,0.6,5,0.99,8]] using trained model:\" , target[model.predict([[0.3,3.5,15,150,0.5,0.06,0.6,5,0.99,8]])[0]])"
      ],
      "execution_count": null,
      "outputs": [
        {
          "output_type": "stream",
          "name": "stdout",
          "text": [
            "Predicting value for [[0.3,3.5,15,150,0.5,0.06,0.6,5,0.99,8]] using trained model: Non-Tumor\n"
          ]
        },
        {
          "output_type": "stream",
          "name": "stderr",
          "text": [
            "/usr/local/lib/python3.7/dist-packages/sklearn/base.py:446: UserWarning: X does not have valid feature names, but LogisticRegression was fitted with feature names\n",
            "  \"X does not have valid feature names, but\"\n"
          ]
        }
      ]
    },
    {
      "cell_type": "code",
      "metadata": {
        "colab": {
          "base_uri": "https://localhost:8080/"
        },
        "id": "8u_COd-BFNAA",
        "outputId": "c9bd44b8-2d50-4109-f730-1b30f11328a4"
      },
      "source": [
        "# Creating confusion matrix\n",
        "from sklearn.metrics import confusion_matrix\n",
        "y_pred = model.predict(X_test)\n",
        "cm = confusion_matrix(y_test, y_pred)\n",
        "cm"
      ],
      "execution_count": null,
      "outputs": [
        {
          "output_type": "execute_result",
          "data": {
            "text/plain": [
              "array([[417,   2],\n",
              "       [ 15, 319]])"
            ]
          },
          "metadata": {},
          "execution_count": 39
        }
      ]
    },
    {
      "cell_type": "code",
      "metadata": {
        "colab": {
          "base_uri": "https://localhost:8080/",
          "height": 405
        },
        "id": "vSdPkwSNFRLX",
        "outputId": "962add86-3e03-482f-b4f4-be6e0eb7cf96"
      },
      "source": [
        "%matplotlib inline\n",
        "import matplotlib.pyplot as plt\n",
        "import seaborn as sns\n",
        "plt.figure(figsize=(8,6))\n",
        "sns.heatmap(cm, annot=True)\n",
        "plt.xlabel('Predicted')\n",
        "plt.ylabel('Truth')"
      ],
      "execution_count": null,
      "outputs": [
        {
          "output_type": "execute_result",
          "data": {
            "text/plain": [
              "Text(51.0, 0.5, 'Truth')"
            ]
          },
          "metadata": {},
          "execution_count": 40
        },
        {
          "output_type": "display_data",
          "data": {
            "image/png": "[encoded data removed]",
            "text/plain": [
              "<Figure size 576x432 with 2 Axes>"
            ]
          },
          "metadata": {
            "needs_background": "light"
          }
        }
      ]
    },
    {
      "cell_type": "code",
      "metadata": {
        "id": "A6GXZdq6Fx98",
        "colab": {
          "base_uri": "https://localhost:8080/"
        },
        "outputId": "d41c213d-278d-403f-8a10-c5c7281114b1"
      },
      "source": [
        "from sklearn.metrics import classification_report\n",
        "print(classification_report(y_test, y_pred))"
      ],
      "execution_count": null,
      "outputs": [
        {
          "output_type": "stream",
          "name": "stdout",
          "text": [
            "              precision    recall  f1-score   support\n",
            "\n",
            "           0       0.97      1.00      0.98       419\n",
            "           1       0.99      0.96      0.97       334\n",
            "\n",
            "    accuracy                           0.98       753\n",
            "   macro avg       0.98      0.98      0.98       753\n",
            "weighted avg       0.98      0.98      0.98       753\n",
            "\n"
          ]
        }
      ]
    },
    {
      "cell_type": "code",
      "metadata": {
        "id": "9d9N1VffESmP",
        "colab": {
          "base_uri": "https://localhost:8080/"
        },
        "outputId": "ee893562-6190-4edf-8fad-38d8beb853b6"
      },
      "source": [
        "from sklearn.metrics import classification_report\n",
        "\n",
        "print(classification_report(y_train, model.predict(X_train)))"
      ],
      "execution_count": null,
      "outputs": [
        {
          "output_type": "stream",
          "name": "stdout",
          "text": [
            "              precision    recall  f1-score   support\n",
            "\n",
            "           0       0.95      0.99      0.97      1660\n",
            "           1       0.99      0.94      0.96      1349\n",
            "\n",
            "    accuracy                           0.97      3009\n",
            "   macro avg       0.97      0.97      0.97      3009\n",
            "weighted avg       0.97      0.97      0.97      3009\n",
            "\n"
          ]
        }
      ]
    }
  ]
}